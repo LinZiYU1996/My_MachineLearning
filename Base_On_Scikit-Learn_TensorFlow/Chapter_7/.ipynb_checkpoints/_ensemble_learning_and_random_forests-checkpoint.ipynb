{
 "cells": [
  {
   "cell_type": "markdown",
   "metadata": {
    "collapsed": true
   },
   "source": [
    "集成学习和随机森林\n",
    "如果你随机向几千个人询问一个复杂问题，然后汇总他们的回\n",
    "答。在许多情况下，你会发现，这个汇总的回答比专家的回答还要\n",
    "好。这被称为群体智慧。同样，如果你聚合一组预测器（比如分类器\n",
    "或回归器）的预测，得到的预测结果也比最好的单个预测器要好。这\n",
    "样的一组预测器，我们称为集成，所以这种技术，也被称为集成学\n",
    "习，而一个集成学习的算法则被称为集成方法。"
   ]
  },
  {
   "cell_type": "markdown",
   "metadata": {},
   "source": [
    "例如，你可以训练一组决策树分类器，每一棵树都基于训练集不\n",
    "同的随机子集进行训练。做出预测时，你只需要获得所有树各自的预\n",
    "测，然后给出得票最多的类别作为预测结果（见第6章最后一道练\n",
    "习）。这样一组决策树的集成被称为随机森林，尽管很简单，但它是\n",
    "迄今可用的最强大的机器学习算法之一"
   ]
  },
  {
   "cell_type": "markdown",
   "metadata": {},
   "source": [
    "投票分类器\n",
    "假设你已经训练好了一些分类器，每个分类器的准确率约为\n",
    "80%。大概包括：一个逻辑回归分类器、一个SVM分类器、一个随机\n",
    "森林分类器、一个K-近邻分类器，或许还有更多"
   ]
  },
  {
   "cell_type": "markdown",
   "metadata": {},
   "source": [
    "这时，要创建出一个更好的分类器，最简单的办法就是聚合每个\n",
    "分类器的预测，然后将得票最多的结果作为预测类别。这种大多数投\n",
    "票分类器被称为硬投票分类器"
   ]
  },
  {
   "cell_type": "code",
   "execution_count": null,
   "metadata": {
    "collapsed": true
   },
   "outputs": [],
   "source": []
  },
  {
   "cell_type": "code",
   "execution_count": null,
   "metadata": {
    "collapsed": true
   },
   "outputs": [],
   "source": []
  },
  {
   "cell_type": "code",
   "execution_count": null,
   "metadata": {
    "collapsed": true
   },
   "outputs": [],
   "source": []
  },
  {
   "cell_type": "code",
   "execution_count": null,
   "metadata": {
    "collapsed": true
   },
   "outputs": [],
   "source": []
  },
  {
   "cell_type": "code",
   "execution_count": null,
   "metadata": {
    "collapsed": true
   },
   "outputs": [],
   "source": []
  },
  {
   "cell_type": "code",
   "execution_count": null,
   "metadata": {
    "collapsed": true
   },
   "outputs": [],
   "source": []
  },
  {
   "cell_type": "code",
   "execution_count": null,
   "metadata": {
    "collapsed": true
   },
   "outputs": [],
   "source": []
  },
  {
   "cell_type": "code",
   "execution_count": null,
   "metadata": {
    "collapsed": true
   },
   "outputs": [],
   "source": []
  }
 ],
 "metadata": {
  "kernelspec": {
   "display_name": "Python 3",
   "language": "python",
   "name": "python3"
  },
  "language_info": {
   "codemirror_mode": {
    "name": "ipython",
    "version": 3
   },
   "file_extension": ".py",
   "mimetype": "text/x-python",
   "name": "python",
   "nbconvert_exporter": "python",
   "pygments_lexer": "ipython3",
   "version": "3.6.3"
  }
 },
 "nbformat": 4,
 "nbformat_minor": 1
}
