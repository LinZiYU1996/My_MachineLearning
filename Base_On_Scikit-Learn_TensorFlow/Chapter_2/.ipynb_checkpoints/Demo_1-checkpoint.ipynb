{
 "cells": [
  {
   "cell_type": "code",
   "execution_count": 29,
   "metadata": {
    "pycharm": {
     "is_executing": true,
     "name": "#%%\n"
    }
   },
   "outputs": [],
   "source": [
    "# To plot pretty figures\n",
    "%matplotlib inline\n",
    "import matplotlib\n",
    "import matplotlib.pyplot as plt\n",
    "plt.rcParams['axes.labelsize'] = 14\n",
    "plt.rcParams['xtick.labelsize'] = 12\n",
    "plt.rcParams['ytick.labelsize'] = 12\n",
    "\n",
    "# Where to save the figures\n",
    "PROJECT_ROOT_DIR = \".\"\n",
    "CHAPTER_ID = \"end_to_end_project\"\n",
    "def save_fig(fig_id, tight_layout=True):\n",
    "    path = os.path.join(PROJECT_ROOT_DIR, \"images\", CHAPTER_ID, fig_id + \".png\")\n",
    "    print(\"Saving figure\", fig_id)\n",
    "    if tight_layout:\n",
    "        plt.tight_layout()\n",
    "    plt.savefig(path, format='png', dpi=300)"
   ]
  },
  {
   "cell_type": "code",
   "execution_count": 31,
   "metadata": {
    "pycharm": {
     "is_executing": true,
     "name": "#%%\n"
    }
   },
   "outputs": [],
   "source": [
    "'''\n",
    "获取数据\n",
    "'''\n",
    "import os\n",
    "import pandas as pd\n",
    "def load_housing_data():\n",
    "    \n",
    "    return pd.read_csv(\"housing.csv\")\n",
    "\n",
    "\n",
    "\n",
    "housing = load_housing_data()"
   ]
  },
  {
   "cell_type": "code",
   "execution_count": 32,
   "metadata": {
    "pycharm": {
     "is_executing": true,
     "name": "#%%\n"
    }
   },
   "outputs": [
    {
     "data": {
      "text/html": [
       "<div>\n",
       "<style>\n",
       "    .dataframe thead tr:only-child th {\n",
       "        text-align: right;\n",
       "    }\n",
       "\n",
       "    .dataframe thead th {\n",
       "        text-align: left;\n",
       "    }\n",
       "\n",
       "    .dataframe tbody tr th {\n",
       "        vertical-align: top;\n",
       "    }\n",
       "</style>\n",
       "<table border=\"1\" class=\"dataframe\">\n",
       "  <thead>\n",
       "    <tr style=\"text-align: right;\">\n",
       "      <th></th>\n",
       "      <th>longitude</th>\n",
       "      <th>latitude</th>\n",
       "      <th>housing_median_age</th>\n",
       "      <th>total_rooms</th>\n",
       "      <th>total_bedrooms</th>\n",
       "      <th>population</th>\n",
       "      <th>households</th>\n",
       "      <th>median_income</th>\n",
       "      <th>median_house_value</th>\n",
       "      <th>ocean_proximity</th>\n",
       "    </tr>\n",
       "  </thead>\n",
       "  <tbody>\n",
       "    <tr>\n",
       "      <th>0</th>\n",
       "      <td>-122.23</td>\n",
       "      <td>37.88</td>\n",
       "      <td>41.0</td>\n",
       "      <td>880.0</td>\n",
       "      <td>129.0</td>\n",
       "      <td>322.0</td>\n",
       "      <td>126.0</td>\n",
       "      <td>8.3252</td>\n",
       "      <td>452600.0</td>\n",
       "      <td>NEAR BAY</td>\n",
       "    </tr>\n",
       "    <tr>\n",
       "      <th>1</th>\n",
       "      <td>-122.22</td>\n",
       "      <td>37.86</td>\n",
       "      <td>21.0</td>\n",
       "      <td>7099.0</td>\n",
       "      <td>1106.0</td>\n",
       "      <td>2401.0</td>\n",
       "      <td>1138.0</td>\n",
       "      <td>8.3014</td>\n",
       "      <td>358500.0</td>\n",
       "      <td>NEAR BAY</td>\n",
       "    </tr>\n",
       "    <tr>\n",
       "      <th>2</th>\n",
       "      <td>-122.24</td>\n",
       "      <td>37.85</td>\n",
       "      <td>52.0</td>\n",
       "      <td>1467.0</td>\n",
       "      <td>190.0</td>\n",
       "      <td>496.0</td>\n",
       "      <td>177.0</td>\n",
       "      <td>7.2574</td>\n",
       "      <td>352100.0</td>\n",
       "      <td>NEAR BAY</td>\n",
       "    </tr>\n",
       "    <tr>\n",
       "      <th>3</th>\n",
       "      <td>-122.25</td>\n",
       "      <td>37.85</td>\n",
       "      <td>52.0</td>\n",
       "      <td>1274.0</td>\n",
       "      <td>235.0</td>\n",
       "      <td>558.0</td>\n",
       "      <td>219.0</td>\n",
       "      <td>5.6431</td>\n",
       "      <td>341300.0</td>\n",
       "      <td>NEAR BAY</td>\n",
       "    </tr>\n",
       "    <tr>\n",
       "      <th>4</th>\n",
       "      <td>-122.25</td>\n",
       "      <td>37.85</td>\n",
       "      <td>52.0</td>\n",
       "      <td>1627.0</td>\n",
       "      <td>280.0</td>\n",
       "      <td>565.0</td>\n",
       "      <td>259.0</td>\n",
       "      <td>3.8462</td>\n",
       "      <td>342200.0</td>\n",
       "      <td>NEAR BAY</td>\n",
       "    </tr>\n",
       "  </tbody>\n",
       "</table>\n",
       "</div>"
      ],
      "text/plain": [
       "   longitude  latitude  housing_median_age  total_rooms  total_bedrooms  \\\n",
       "0    -122.23     37.88                41.0        880.0           129.0   \n",
       "1    -122.22     37.86                21.0       7099.0          1106.0   \n",
       "2    -122.24     37.85                52.0       1467.0           190.0   \n",
       "3    -122.25     37.85                52.0       1274.0           235.0   \n",
       "4    -122.25     37.85                52.0       1627.0           280.0   \n",
       "\n",
       "   population  households  median_income  median_house_value ocean_proximity  \n",
       "0       322.0       126.0         8.3252            452600.0        NEAR BAY  \n",
       "1      2401.0      1138.0         8.3014            358500.0        NEAR BAY  \n",
       "2       496.0       177.0         7.2574            352100.0        NEAR BAY  \n",
       "3       558.0       219.0         5.6431            341300.0        NEAR BAY  \n",
       "4       565.0       259.0         3.8462            342200.0        NEAR BAY  "
      ]
     },
     "execution_count": 32,
     "metadata": {},
     "output_type": "execute_result"
    }
   ],
   "source": [
    "# 查看前五行的数据 每一行代表一个区\n",
    "housing.head()"
   ]
  },
  {
   "cell_type": "code",
   "execution_count": 33,
   "metadata": {
    "pycharm": {
     "is_executing": true,
     "name": "#%%\n"
    }
   },
   "outputs": [
    {
     "name": "stdout",
     "output_type": "stream",
     "text": [
      "<class 'pandas.core.frame.DataFrame'>\n",
      "RangeIndex: 20640 entries, 0 to 20639\n",
      "Data columns (total 10 columns):\n",
      "longitude             20640 non-null float64\n",
      "latitude              20640 non-null float64\n",
      "housing_median_age    20640 non-null float64\n",
      "total_rooms           20640 non-null float64\n",
      "total_bedrooms        20433 non-null float64\n",
      "population            20640 non-null float64\n",
      "households            20640 non-null float64\n",
      "median_income         20640 non-null float64\n",
      "median_house_value    20640 non-null float64\n",
      "ocean_proximity       20640 non-null object\n",
      "dtypes: float64(9), object(1)\n",
      "memory usage: 1.6+ MB\n"
     ]
    }
   ],
   "source": [
    "# info方法获取数据集的简单描述\n",
    "housing.info()\n"
   ]
  },
  {
   "cell_type": "code",
   "execution_count": 34,
   "metadata": {
    "pycharm": {
     "is_executing": true,
     "name": "#%%\n"
    }
   },
   "outputs": [
    {
     "data": {
      "text/plain": [
       "<1H OCEAN     9136\n",
       "INLAND        6551\n",
       "NEAR OCEAN    2658\n",
       "NEAR BAY      2290\n",
       "ISLAND           5\n",
       "Name: ocean_proximity, dtype: int64"
      ]
     },
     "execution_count": 34,
     "metadata": {},
     "output_type": "execute_result"
    }
   ],
   "source": [
    "# 查看 ocean_proximity 属性有多少中分类存在\n",
    "housing[\"ocean_proximity\"].value_counts()"
   ]
  },
  {
   "cell_type": "code",
   "execution_count": 35,
   "metadata": {
    "pycharm": {
     "is_executing": true,
     "name": "#%%\n"
    }
   },
   "outputs": [
    {
     "data": {
      "text/html": [
       "<div>\n",
       "<style>\n",
       "    .dataframe thead tr:only-child th {\n",
       "        text-align: right;\n",
       "    }\n",
       "\n",
       "    .dataframe thead th {\n",
       "        text-align: left;\n",
       "    }\n",
       "\n",
       "    .dataframe tbody tr th {\n",
       "        vertical-align: top;\n",
       "    }\n",
       "</style>\n",
       "<table border=\"1\" class=\"dataframe\">\n",
       "  <thead>\n",
       "    <tr style=\"text-align: right;\">\n",
       "      <th></th>\n",
       "      <th>longitude</th>\n",
       "      <th>latitude</th>\n",
       "      <th>housing_median_age</th>\n",
       "      <th>total_rooms</th>\n",
       "      <th>total_bedrooms</th>\n",
       "      <th>population</th>\n",
       "      <th>households</th>\n",
       "      <th>median_income</th>\n",
       "      <th>median_house_value</th>\n",
       "    </tr>\n",
       "  </thead>\n",
       "  <tbody>\n",
       "    <tr>\n",
       "      <th>count</th>\n",
       "      <td>20640.000000</td>\n",
       "      <td>20640.000000</td>\n",
       "      <td>20640.000000</td>\n",
       "      <td>20640.000000</td>\n",
       "      <td>20433.000000</td>\n",
       "      <td>20640.000000</td>\n",
       "      <td>20640.000000</td>\n",
       "      <td>20640.000000</td>\n",
       "      <td>20640.000000</td>\n",
       "    </tr>\n",
       "    <tr>\n",
       "      <th>mean</th>\n",
       "      <td>-119.569704</td>\n",
       "      <td>35.631861</td>\n",
       "      <td>28.639486</td>\n",
       "      <td>2635.763081</td>\n",
       "      <td>537.870553</td>\n",
       "      <td>1425.476744</td>\n",
       "      <td>499.539680</td>\n",
       "      <td>3.870671</td>\n",
       "      <td>206855.816909</td>\n",
       "    </tr>\n",
       "    <tr>\n",
       "      <th>std</th>\n",
       "      <td>2.003532</td>\n",
       "      <td>2.135952</td>\n",
       "      <td>12.585558</td>\n",
       "      <td>2181.615252</td>\n",
       "      <td>421.385070</td>\n",
       "      <td>1132.462122</td>\n",
       "      <td>382.329753</td>\n",
       "      <td>1.899822</td>\n",
       "      <td>115395.615874</td>\n",
       "    </tr>\n",
       "    <tr>\n",
       "      <th>min</th>\n",
       "      <td>-124.350000</td>\n",
       "      <td>32.540000</td>\n",
       "      <td>1.000000</td>\n",
       "      <td>2.000000</td>\n",
       "      <td>1.000000</td>\n",
       "      <td>3.000000</td>\n",
       "      <td>1.000000</td>\n",
       "      <td>0.499900</td>\n",
       "      <td>14999.000000</td>\n",
       "    </tr>\n",
       "    <tr>\n",
       "      <th>25%</th>\n",
       "      <td>-121.800000</td>\n",
       "      <td>33.930000</td>\n",
       "      <td>18.000000</td>\n",
       "      <td>1447.750000</td>\n",
       "      <td>296.000000</td>\n",
       "      <td>787.000000</td>\n",
       "      <td>280.000000</td>\n",
       "      <td>2.563400</td>\n",
       "      <td>119600.000000</td>\n",
       "    </tr>\n",
       "    <tr>\n",
       "      <th>50%</th>\n",
       "      <td>-118.490000</td>\n",
       "      <td>34.260000</td>\n",
       "      <td>29.000000</td>\n",
       "      <td>2127.000000</td>\n",
       "      <td>435.000000</td>\n",
       "      <td>1166.000000</td>\n",
       "      <td>409.000000</td>\n",
       "      <td>3.534800</td>\n",
       "      <td>179700.000000</td>\n",
       "    </tr>\n",
       "    <tr>\n",
       "      <th>75%</th>\n",
       "      <td>-118.010000</td>\n",
       "      <td>37.710000</td>\n",
       "      <td>37.000000</td>\n",
       "      <td>3148.000000</td>\n",
       "      <td>647.000000</td>\n",
       "      <td>1725.000000</td>\n",
       "      <td>605.000000</td>\n",
       "      <td>4.743250</td>\n",
       "      <td>264725.000000</td>\n",
       "    </tr>\n",
       "    <tr>\n",
       "      <th>max</th>\n",
       "      <td>-114.310000</td>\n",
       "      <td>41.950000</td>\n",
       "      <td>52.000000</td>\n",
       "      <td>39320.000000</td>\n",
       "      <td>6445.000000</td>\n",
       "      <td>35682.000000</td>\n",
       "      <td>6082.000000</td>\n",
       "      <td>15.000100</td>\n",
       "      <td>500001.000000</td>\n",
       "    </tr>\n",
       "  </tbody>\n",
       "</table>\n",
       "</div>"
      ],
      "text/plain": [
       "          longitude      latitude  housing_median_age   total_rooms  \\\n",
       "count  20640.000000  20640.000000        20640.000000  20640.000000   \n",
       "mean    -119.569704     35.631861           28.639486   2635.763081   \n",
       "std        2.003532      2.135952           12.585558   2181.615252   \n",
       "min     -124.350000     32.540000            1.000000      2.000000   \n",
       "25%     -121.800000     33.930000           18.000000   1447.750000   \n",
       "50%     -118.490000     34.260000           29.000000   2127.000000   \n",
       "75%     -118.010000     37.710000           37.000000   3148.000000   \n",
       "max     -114.310000     41.950000           52.000000  39320.000000   \n",
       "\n",
       "       total_bedrooms    population    households  median_income  \\\n",
       "count    20433.000000  20640.000000  20640.000000   20640.000000   \n",
       "mean       537.870553   1425.476744    499.539680       3.870671   \n",
       "std        421.385070   1132.462122    382.329753       1.899822   \n",
       "min          1.000000      3.000000      1.000000       0.499900   \n",
       "25%        296.000000    787.000000    280.000000       2.563400   \n",
       "50%        435.000000   1166.000000    409.000000       3.534800   \n",
       "75%        647.000000   1725.000000    605.000000       4.743250   \n",
       "max       6445.000000  35682.000000   6082.000000      15.000100   \n",
       "\n",
       "       median_house_value  \n",
       "count        20640.000000  \n",
       "mean        206855.816909  \n",
       "std         115395.615874  \n",
       "min          14999.000000  \n",
       "25%         119600.000000  \n",
       "50%         179700.000000  \n",
       "75%         264725.000000  \n",
       "max         500001.000000  "
      ]
     },
     "execution_count": 35,
     "metadata": {},
     "output_type": "execute_result"
    }
   ],
   "source": [
    "# describe 显示数值属性的摘要\n",
    "# std 标准差（用来测量数值的离散程度）\n",
    "# 25%、50%和75%行显示相应的百分位数：百分位数表示一组观测值\n",
    "# 中给定百分比的观测值都低于该值。例如，对于housing_median_age\n",
    "# 的值，25%的区域低于18，50%的区域低于29，以及75%的区域低于\n",
    "# 37。这些通常被称为：百分之二十五分位数（或者第一四分位数）、\n",
    "# 中位数以及百分之七十五分位数（或者第三四分位数）。\n",
    "housing.describe()"
   ]
  },
  {
   "cell_type": "code",
   "execution_count": 36,
   "metadata": {
    "pycharm": {
     "is_executing": true,
     "name": "#%%\n"
    }
   },
   "outputs": [
    {
     "data": {
      "image/png": "[encoded data removed]",
      "text/plain": [
       "<matplotlib.figure.Figure at 0x1f3ea8720b8>"
      ]
     },
     "metadata": {},
     "output_type": "display_data"
    }
   ],
   "source": [
    "# 绘制直方图\n",
    "\n",
    "%matplotlib inline\n",
    "import matplotlib.pyplot as plt\n",
    "housing.hist(bins=50, figsize=(20,15))\n",
    "plt.show()\n",
    "\n"
   ]
  },
  {
   "cell_type": "markdown",
   "metadata": {},
   "source": [
    "直方图 看出的问题\n",
    "1.首先，收入中位数这个属性看起来不像是用美元（USD）在衡\n",
    "量。经与收集数据的团队核实，你得知数据已经按比例缩小，并框出\n",
    "中位数的上限为15（实际为15.0001），下限为0.5（实际为\n",
    "0.4999）。在机器学习中，使用经过预处理的属性是很常见的事情，\n",
    "倒不一定是个问题，但是你至少需要了解数据是如何计算的。\n",
    "2.房龄中位数和房价中位数也被设定了上限。而后者正是你的目\n",
    "标属性（标签），这可是个大问题。因为你的机器学习算法很可能会\n",
    "学习到价格永远不会超过这个限制。所以你需要再次与客户（使用你\n",
    "系统的输出的团队）进行核实，查看是否存在问题。如果他们告诉\n",
    "你，他们需要精确的预测值，甚至可以超过50万美元，那么，通常你\n",
    "有两个选择：\n",
    "a.对那些标签值被设置了上限的地区，重新收集标签值。\n",
    "b.或是将这些地区的数据从训练集中移除（包括从测试集中移\n",
    "除，因为如果预测值超过500000，系统不应被评估为不良）。\n",
    "3.这些属性值被缩放的程度各不相同。这点将在本章后文探索特\n",
    "征的缩放时，再做讨论。\n",
    "4.最后，许多直方图都表现出重尾：图形在中位数右侧的延伸比\n",
    "左侧要远得多。这可能会导致某些机器学习算法难以检测模式。稍后\n",
    "我们会尝试一些转化方法，将这些属性转化为更偏向钟形的分布"
   ]
  },
  {
   "cell_type": "code",
   "execution_count": 37,
   "metadata": {
    "pycharm": {
     "is_executing": true,
     "name": "#%%\n"
    }
   },
   "outputs": [],
   "source": [
    "# 开始创建测试集\n",
    "\n",
    "import numpy as np\n",
    "np.random.seed(42)"
   ]
  },
  {
   "cell_type": "code",
   "execution_count": 38,
   "metadata": {
    "pycharm": {
     "is_executing": true,
     "name": "#%%\n"
    }
   },
   "outputs": [],
   "source": [
    "import numpy as np\n",
    "\n",
    "# For illustration only. Sklearn has train_test_split()\n",
    "def split_train_test(data, test_ratio):\n",
    "    shuffled_indices = np.random.permutation(len(data))\n",
    "    test_set_size = int(len(data) * test_ratio)\n",
    "    test_indices = shuffled_indices[:test_set_size]\n",
    "    train_indices = shuffled_indices[test_set_size:]\n",
    "    return data.iloc[train_indices], data.iloc[test_indices]\n"
   ]
  },
  {
   "cell_type": "code",
   "execution_count": 39,
   "metadata": {
    "pycharm": {
     "is_executing": true,
     "name": "#%%\n"
    }
   },
   "outputs": [],
   "source": [
    "# 常见的解决办法是每个实例都使用一个标识符（identifier）来决定是否\n",
    "# 进入测试集（假定每个实例都有一个唯一且不变的标识符）。举例来\n",
    "# 说，你可以计算每个实例标识符的hash值，只取hash的最后一个字\n",
    "# 节，如果该值小于等于51（约256的20%），则将该实例放入测试\n",
    "# 集。这样可以确保测试集在多个运行里都是一致的，即便更新数据集\n",
    "# 也仍然一致。新实例的20%将被放入新的测试集，而之前训练集中的\n",
    "# 实例也不会被放入新测试集。\n",
    "\n",
    "import hashlib\n",
    "def test_set_check(identifier, test_ratio, hash):\n",
    "    return hash(np.int64(identifier)).digest()[-1] < 256 * test_ratio\n",
    "def split_train_test_by_id(data, test_ratio, id_column, hash=hashlib.md5):\n",
    "    ids = data[id_column]\n",
    "    in_test_set = ids.apply(lambda id_: test_set_check(id_, test_ratio, hash))\n",
    "    return data.loc[~in_test_set], data.loc[in_test_set]\n",
    "\n",
    "\n",
    "# 不幸的是，housing数据集没有标识符列。最简单的解决方法是\n",
    "# 使用行索引作为ID：\n",
    "\n",
    "housing_with_id = housing.reset_index() # adds an `index` column\n",
    "train_set, test_set = split_train_test_by_id(housing_with_id, 0.2, \"index\")\n",
    "\n",
    "# 如果使用行索引作为唯一标识符，你需要确保在数据集的末尾添\n",
    "# 加新数据，并且不会删除任何行。如果不能保证这点，那么你可以尝\n",
    "# 试使用某个最稳定的特征来创建唯一标识符。例如，一个地区的经纬\n",
    "# 度肯定几百万年都不会变，所以你可以将它们组合成如下的ID\n",
    "housing_with_id[\"id\"] = housing[\"longitude\"] * 1000 + housing[\"latitude\"]\n",
    "train_set, test_set = split_train_test_by_id(housing_with_id, 0.2, \"id\")\n"
   ]
  },
  {
   "cell_type": "code",
   "execution_count": 40,
   "metadata": {
    "pycharm": {
     "is_executing": true,
     "name": "#%%\n"
    }
   },
   "outputs": [
    {
     "name": "stdout",
     "output_type": "stream",
     "text": [
      "16512 train + 4128 test\n"
     ]
    }
   ],
   "source": [
    "train_set, test_set = split_train_test(housing, 0.2)\n",
    "print(len(train_set), \"train +\", len(test_set), \"test\")"
   ]
  },
  {
   "cell_type": "code",
   "execution_count": 41,
   "metadata": {
    "pycharm": {
     "is_executing": true,
     "name": "#%%\n"
    }
   },
   "outputs": [],
   "source": [
    "# Scikit-Learn提供了一些函数，可以通过多种方式将数据集分成多\n",
    "# 个子集。最简单的函数是train_test_split，它与前面定义的函数\n",
    "# split_train_test几乎相同，除了几个额外特征。首先，它也有\n",
    "# random_state参数，让你可以像之前提到过的那样设置随机生成器种\n",
    "# 子；其次，你可以把行数相同的多个数据集一次性发送给它，它会根\n",
    "# 据相同的索引将其拆分\n",
    "from sklearn.model_selection import train_test_split\n",
    "\n",
    "train_set, test_set = train_test_split(housing, test_size=0.2, random_state=42)"
   ]
  },
  {
   "cell_type": "code",
   "execution_count": 42,
   "metadata": {
    "pycharm": {
     "is_executing": true,
     "name": "#%%\n"
    }
   },
   "outputs": [
    {
     "data": {
      "text/html": [
       "<div>\n",
       "<style>\n",
       "    .dataframe thead tr:only-child th {\n",
       "        text-align: right;\n",
       "    }\n",
       "\n",
       "    .dataframe thead th {\n",
       "        text-align: left;\n",
       "    }\n",
       "\n",
       "    .dataframe tbody tr th {\n",
       "        vertical-align: top;\n",
       "    }\n",
       "</style>\n",
       "<table border=\"1\" class=\"dataframe\">\n",
       "  <thead>\n",
       "    <tr style=\"text-align: right;\">\n",
       "      <th></th>\n",
       "      <th>longitude</th>\n",
       "      <th>latitude</th>\n",
       "      <th>housing_median_age</th>\n",
       "      <th>total_rooms</th>\n",
       "      <th>total_bedrooms</th>\n",
       "      <th>population</th>\n",
       "      <th>households</th>\n",
       "      <th>median_income</th>\n",
       "      <th>median_house_value</th>\n",
       "      <th>ocean_proximity</th>\n",
       "    </tr>\n",
       "  </thead>\n",
       "  <tbody>\n",
       "    <tr>\n",
       "      <th>20046</th>\n",
       "      <td>-119.01</td>\n",
       "      <td>36.06</td>\n",
       "      <td>25.0</td>\n",
       "      <td>1505.0</td>\n",
       "      <td>NaN</td>\n",
       "      <td>1392.0</td>\n",
       "      <td>359.0</td>\n",
       "      <td>1.6812</td>\n",
       "      <td>47700.0</td>\n",
       "      <td>INLAND</td>\n",
       "    </tr>\n",
       "    <tr>\n",
       "      <th>3024</th>\n",
       "      <td>-119.46</td>\n",
       "      <td>35.14</td>\n",
       "      <td>30.0</td>\n",
       "      <td>2943.0</td>\n",
       "      <td>NaN</td>\n",
       "      <td>1565.0</td>\n",
       "      <td>584.0</td>\n",
       "      <td>2.5313</td>\n",
       "      <td>45800.0</td>\n",
       "      <td>INLAND</td>\n",
       "    </tr>\n",
       "    <tr>\n",
       "      <th>15663</th>\n",
       "      <td>-122.44</td>\n",
       "      <td>37.80</td>\n",
       "      <td>52.0</td>\n",
       "      <td>3830.0</td>\n",
       "      <td>NaN</td>\n",
       "      <td>1310.0</td>\n",
       "      <td>963.0</td>\n",
       "      <td>3.4801</td>\n",
       "      <td>500001.0</td>\n",
       "      <td>NEAR BAY</td>\n",
       "    </tr>\n",
       "    <tr>\n",
       "      <th>20484</th>\n",
       "      <td>-118.72</td>\n",
       "      <td>34.28</td>\n",
       "      <td>17.0</td>\n",
       "      <td>3051.0</td>\n",
       "      <td>NaN</td>\n",
       "      <td>1705.0</td>\n",
       "      <td>495.0</td>\n",
       "      <td>5.7376</td>\n",
       "      <td>218600.0</td>\n",
       "      <td>&lt;1H OCEAN</td>\n",
       "    </tr>\n",
       "    <tr>\n",
       "      <th>9814</th>\n",
       "      <td>-121.93</td>\n",
       "      <td>36.62</td>\n",
       "      <td>34.0</td>\n",
       "      <td>2351.0</td>\n",
       "      <td>NaN</td>\n",
       "      <td>1063.0</td>\n",
       "      <td>428.0</td>\n",
       "      <td>3.7250</td>\n",
       "      <td>278000.0</td>\n",
       "      <td>NEAR OCEAN</td>\n",
       "    </tr>\n",
       "  </tbody>\n",
       "</table>\n",
       "</div>"
      ],
      "text/plain": [
       "       longitude  latitude  housing_median_age  total_rooms  total_bedrooms  \\\n",
       "20046    -119.01     36.06                25.0       1505.0             NaN   \n",
       "3024     -119.46     35.14                30.0       2943.0             NaN   \n",
       "15663    -122.44     37.80                52.0       3830.0             NaN   \n",
       "20484    -118.72     34.28                17.0       3051.0             NaN   \n",
       "9814     -121.93     36.62                34.0       2351.0             NaN   \n",
       "\n",
       "       population  households  median_income  median_house_value  \\\n",
       "20046      1392.0       359.0         1.6812             47700.0   \n",
       "3024       1565.0       584.0         2.5313             45800.0   \n",
       "15663      1310.0       963.0         3.4801            500001.0   \n",
       "20484      1705.0       495.0         5.7376            218600.0   \n",
       "9814       1063.0       428.0         3.7250            278000.0   \n",
       "\n",
       "      ocean_proximity  \n",
       "20046          INLAND  \n",
       "3024           INLAND  \n",
       "15663        NEAR BAY  \n",
       "20484       <1H OCEAN  \n",
       "9814       NEAR OCEAN  "
      ]
     },
     "execution_count": 42,
     "metadata": {},
     "output_type": "execute_result"
    }
   ],
   "source": [
    "test_set.head()\n"
   ]
  },
  {
   "cell_type": "code",
   "execution_count": 43,
   "metadata": {
    "pycharm": {
     "is_executing": true,
     "name": "#%%\n"
    }
   },
   "outputs": [
    {
     "data": {
      "text/plain": [
       "<matplotlib.axes._subplots.AxesSubplot at 0x1f3ea8729e8>"
      ]
     },
     "execution_count": 43,
     "metadata": {},
     "output_type": "execute_result"
    },
    {
     "data": {
      "image/png": "[encoded data removed]",
      "text/plain": [
       "<matplotlib.figure.Figure at 0x1f3ea8844a8>"
      ]
     },
     "metadata": {},
     "output_type": "display_data"
    }
   ],
   "source": [
    "housing[\"median_income\"].hist()\n",
    "\n"
   ]
  },
  {
   "cell_type": "code",
   "execution_count": 44,
   "metadata": {
    "pycharm": {
     "is_executing": false,
     "name": "#%%\n"
    }
   },
   "outputs": [],
   "source": [
    "# 大多数收入中位数值聚集在2～5（万美元）左右，但也有一部分\n",
    "# 远远超过了6万。在数据集中，每一层都要有足够数量的实例，这一\n",
    "# 点至关重要，不然数据不足的层，其重要程度很有可能会被错估。也\n",
    "# 就是说，你不应该将层数分得太多，每一层应该要足够大才行。下面\n",
    "# 这段代码是这样创建收入类别属性的：将收入中位数除以1.5（限制\n",
    "# 收入类别的数量），然后使用ceil进行取整（得到离散类别），最后\n",
    "# 将所有大于5的类别合并为类别5：\n",
    "# Divide by 1.5 to limit the number of income categories\n",
    "housing[\"income_cat\"] = np.ceil(housing[\"median_income\"] / 1.5)\n",
    "# Label those above 5 as 5\n",
    "housing[\"income_cat\"].where(housing[\"income_cat\"] < 5, 5.0, inplace=True)\n",
    "\n"
   ]
  },
  {
   "cell_type": "code",
   "execution_count": 45,
   "metadata": {
    "pycharm": {
     "is_executing": false,
     "name": "#%%\n"
    }
   },
   "outputs": [],
   "source": [
    "# 现在，你可以根据收入类别进行分层抽样了。使用Scikit-Learn的\n",
    "# Stratified-Shuffle Split类：\n",
    "from sklearn.model_selection import StratifiedShuffleSplit\n",
    "\n",
    "split = StratifiedShuffleSplit(n_splits=1, test_size=0.2, random_state=42)\n",
    "for train_index, test_index in split.split(housing, housing[\"income_cat\"]):\n",
    "    strat_train_set = housing.loc[train_index]\n",
    "    strat_test_set = housing.loc[test_index]"
   ]
  },
  {
   "cell_type": "code",
   "execution_count": 46,
   "metadata": {
    "pycharm": {
     "is_executing": false,
     "name": "#%%\n"
    }
   },
   "outputs": [
    {
     "data": {
      "text/plain": [
       "3.0    0.350581\n",
       "2.0    0.318847\n",
       "4.0    0.176308\n",
       "5.0    0.114438\n",
       "1.0    0.039826\n",
       "Name: income_cat, dtype: float64"
      ]
     },
     "execution_count": 46,
     "metadata": {},
     "output_type": "execute_result"
    }
   ],
   "source": [
    "housing[\"income_cat\"].value_counts() / len(housing)"
   ]
  },
  {
   "cell_type": "code",
   "execution_count": 47,
   "metadata": {
    "pycharm": {
     "is_executing": false,
     "name": "#%%\n"
    }
   },
   "outputs": [],
   "source": [
    "def income_cat_proportions(data):\n",
    "    return data[\"income_cat\"].value_counts() / len(data)\n",
    "\n",
    "train_set, test_set = train_test_split(housing, test_size=0.2, random_state=42)\n",
    "\n",
    "compare_props = pd.DataFrame({\n",
    "    \"Overall\": income_cat_proportions(housing),\n",
    "    \"Stratified\": income_cat_proportions(strat_test_set),\n",
    "    \"Random\": income_cat_proportions(test_set),\n",
    "}).sort_index()\n",
    "compare_props[\"Rand. %error\"] = 100 * compare_props[\"Random\"] / compare_props[\"Overall\"] - 100\n",
    "compare_props[\"Strat. %error\"] = 100 * compare_props[\"Stratified\"] / compare_props[\"Overall\"] - 100\n"
   ]
  },
  {
   "cell_type": "code",
   "execution_count": 48,
   "metadata": {
    "pycharm": {
     "is_executing": false,
     "name": "#%%\n"
    }
   },
   "outputs": [
    {
     "data": {
      "text/html": [
       "<div>\n",
       "<style>\n",
       "    .dataframe thead tr:only-child th {\n",
       "        text-align: right;\n",
       "    }\n",
       "\n",
       "    .dataframe thead th {\n",
       "        text-align: left;\n",
       "    }\n",
       "\n",
       "    .dataframe tbody tr th {\n",
       "        vertical-align: top;\n",
       "    }\n",
       "</style>\n",
       "<table border=\"1\" class=\"dataframe\">\n",
       "  <thead>\n",
       "    <tr style=\"text-align: right;\">\n",
       "      <th></th>\n",
       "      <th>Overall</th>\n",
       "      <th>Random</th>\n",
       "      <th>Stratified</th>\n",
       "      <th>Rand. %error</th>\n",
       "      <th>Strat. %error</th>\n",
       "    </tr>\n",
       "  </thead>\n",
       "  <tbody>\n",
       "    <tr>\n",
       "      <th>1.0</th>\n",
       "      <td>0.039826</td>\n",
       "      <td>0.040213</td>\n",
       "      <td>0.039729</td>\n",
       "      <td>0.973236</td>\n",
       "      <td>-0.243309</td>\n",
       "    </tr>\n",
       "    <tr>\n",
       "      <th>2.0</th>\n",
       "      <td>0.318847</td>\n",
       "      <td>0.324370</td>\n",
       "      <td>0.318798</td>\n",
       "      <td>1.732260</td>\n",
       "      <td>-0.015195</td>\n",
       "    </tr>\n",
       "    <tr>\n",
       "      <th>3.0</th>\n",
       "      <td>0.350581</td>\n",
       "      <td>0.358527</td>\n",
       "      <td>0.350533</td>\n",
       "      <td>2.266446</td>\n",
       "      <td>-0.013820</td>\n",
       "    </tr>\n",
       "    <tr>\n",
       "      <th>4.0</th>\n",
       "      <td>0.176308</td>\n",
       "      <td>0.167393</td>\n",
       "      <td>0.176357</td>\n",
       "      <td>-5.056334</td>\n",
       "      <td>0.027480</td>\n",
       "    </tr>\n",
       "    <tr>\n",
       "      <th>5.0</th>\n",
       "      <td>0.114438</td>\n",
       "      <td>0.109496</td>\n",
       "      <td>0.114583</td>\n",
       "      <td>-4.318374</td>\n",
       "      <td>0.127011</td>\n",
       "    </tr>\n",
       "  </tbody>\n",
       "</table>\n",
       "</div>"
      ],
      "text/plain": [
       "      Overall    Random  Stratified  Rand. %error  Strat. %error\n",
       "1.0  0.039826  0.040213    0.039729      0.973236      -0.243309\n",
       "2.0  0.318847  0.324370    0.318798      1.732260      -0.015195\n",
       "3.0  0.350581  0.358527    0.350533      2.266446      -0.013820\n",
       "4.0  0.176308  0.167393    0.176357     -5.056334       0.027480\n",
       "5.0  0.114438  0.109496    0.114583     -4.318374       0.127011"
      ]
     },
     "execution_count": 48,
     "metadata": {},
     "output_type": "execute_result"
    }
   ],
   "source": [
    "# 使用类似代码你还可以测量测试集中的收入类别比例分布。图2-\n",
    "# 10比较了在三种不同的数据集（完整数据集、分层抽样的测试集、纯\n",
    "# 随机抽样的测试集）中收入类别的比例分布。正如你所见，分层抽样\n",
    "# 的测试集中的比例分布与完整数据集中的分布几乎一致，而纯随机抽\n",
    "# 样的测试集结果则出现了重大偏离\n",
    "compare_props"
   ]
  },
  {
   "cell_type": "code",
   "execution_count": 49,
   "metadata": {
    "pycharm": {
     "is_executing": false,
     "name": "#%%\n"
    }
   },
   "outputs": [],
   "source": [
    "for set_ in (strat_train_set, strat_test_set):\n",
    "    set_.drop(\"income_cat\", axis=1, inplace=True)"
   ]
  },
  {
   "cell_type": "code",
   "execution_count": 50,
   "metadata": {
    "pycharm": {
     "is_executing": false,
     "name": "#%%\n"
    }
   },
   "outputs": [],
   "source": [
    "# 先创建一个副本，这样可以随便尝试而不损害训\n",
    "# 练集：\n",
    "housing = strat_train_set.copy()\n",
    "\n"
   ]
  },
  {
   "cell_type": "code",
   "execution_count": 51,
   "metadata": {
    "pycharm": {
     "is_executing": false,
     "name": "#%%\n"
    }
   },
   "outputs": [
    {
     "name": "stdout",
     "output_type": "stream",
     "text": [
      "Saving figure californ\n"
     ]
    },
    {
     "data": {
      "image/png": "[encoded data removed]",
      "text/plain": [
       "<matplotlib.figure.Figure at 0x1f3eb09fe48>"
      ]
     },
     "metadata": {},
     "output_type": "display_data"
    }
   ],
   "source": [
    "\n",
    "# 由于存在地理位置信息（经度和纬度），因此建立一个各区域的\n",
    "# 分布图以便于数据可视化是一个很好的想法\n",
    "housing.plot(kind=\"scatter\", x=\"longitude\", y=\"latitude\")\n",
    "save_fig(\"californ\")"
   ]
  },
  {
   "cell_type": "code",
   "execution_count": 52,
   "metadata": {
    "pycharm": {
     "is_executing": false,
     "name": "#%%\n"
    }
   },
   "outputs": [
    {
     "name": "stdout",
     "output_type": "stream",
     "text": [
      "Saving figure californ\n"
     ]
    },
    {
     "data": {
      "image/png": "[encoded data removed]",
      "text/plain": [
       "<matplotlib.figure.Figure at 0x1f3eb0bb780>"
      ]
     },
     "metadata": {},
     "output_type": "display_data"
    }
   ],
   "source": [
    "# 没错，这除了看起来跟加利福尼亚州一样以外，很难再看出任何\n",
    "# 其他的模式。将alpha选项设置为0.1，可以更清楚地看出高密度数据\n",
    "# 点的位置\n",
    "housing.plot(kind=\"scatter\", x=\"longitude\", y=\"latitude\",alpha=0.1)\n",
    "save_fig(\"californ\")\n",
    "\n",
    "# 现在好多了：可以清楚地看到高密度地区，也就是湾区、洛杉矶\n",
    "# 和圣地亚哥附近，同时在中央山谷有一条相当高密度的长线，特别是\n",
    "# 萨克拉门托和弗雷斯诺附近。\n",
    "\n"
   ]
  },
  {
   "cell_type": "markdown",
   "metadata": {
    "pycharm": {
     "name": "#%% md\n"
    }
   },
   "source": [
    "现在，再来看看房价。每个圆的半径大小代表了每\n",
    "个地区的人口数量（选项s），颜色代表价格（选项c）。我们使用一\n",
    "个名叫jet的预定义颜色表（选项cmap）来进行可视化，颜色范围从\n",
    "蓝（低）到红（高）"
   ]
  },
  {
   "cell_type": "code",
   "execution_count": 53,
   "metadata": {
    "pycharm": {
     "name": "#%%\n"
    }
   },
   "outputs": [
    {
     "data": {
      "text/plain": [
       "<matplotlib.legend.Legend at 0x1f3ececb438>"
      ]
     },
     "execution_count": 53,
     "metadata": {},
     "output_type": "execute_result"
    },
    {
     "data": {
      "image/png": "[encoded data removed]",
      "text/plain": [
       "<matplotlib.figure.Figure at 0x1f3eaf00ef0>"
      ]
     },
     "metadata": {},
     "output_type": "display_data"
    }
   ],
   "source": [
    "housing.plot(kind=\"scatter\", x=\"longitude\", y=\"latitude\", alpha=0.4,\n",
    "    s=housing[\"population\"]/100, label=\"population\", figsize=(10,7),\n",
    "    c=\"median_house_value\", cmap=plt.get_cmap(\"jet\"), colorbar=True,\n",
    "    sharex=False)\n",
    "plt.legend()"
   ]
  },
  {
   "cell_type": "markdown",
   "metadata": {
    "pycharm": {
     "name": "#%% md\n"
    }
   },
   "source": [
    "save_fig(\"housing_prices_scatterplot\")\n",
    "这张图片告诉你房屋价格与地理位置（例如靠海）和人口密度息\n",
    "息相关，这点你可能早已知晓。一个通常很有用的方法是，使用聚类\n",
    "算法来检测主群体，然后再为各个聚类中心添加一个新的衡量邻近距\n",
    "离的特征。海洋邻近度可能就是一个很有用的属性，不过在北加州，\n",
    "沿海地区的房价并不是太高，所以这个简单的规则也不是万能的。"
   ]
  },
  {
   "cell_type": "code",
   "execution_count": 54,
   "metadata": {
    "pycharm": {
     "is_executing": false,
     "name": "#%%\n"
    }
   },
   "outputs": [
    {
     "name": "stdout",
     "output_type": "stream",
     "text": [
      "                    longitude  latitude  housing_median_age  total_rooms  \\\n",
      "longitude            1.000000 -0.924478           -0.105848     0.048871   \n",
      "latitude            -0.924478  1.000000            0.005766    -0.039184   \n",
      "housing_median_age  -0.105848  0.005766            1.000000    -0.364509   \n",
      "total_rooms          0.048871 -0.039184           -0.364509     1.000000   \n",
      "total_bedrooms       0.076598 -0.072419           -0.325047     0.929379   \n",
      "population           0.108030 -0.115222           -0.298710     0.855109   \n",
      "households           0.063070 -0.077647           -0.306428     0.918392   \n",
      "median_income       -0.019583 -0.075205           -0.111360     0.200087   \n",
      "median_house_value  -0.047432 -0.142724            0.114110     0.135097   \n",
      "\n",
      "                    total_bedrooms  population  households  median_income  \\\n",
      "longitude                 0.076598    0.108030    0.063070      -0.019583   \n",
      "latitude                 -0.072419   -0.115222   -0.077647      -0.075205   \n",
      "housing_median_age       -0.325047   -0.298710   -0.306428      -0.111360   \n",
      "total_rooms               0.929379    0.855109    0.918392       0.200087   \n",
      "total_bedrooms            1.000000    0.876320    0.980170      -0.009740   \n",
      "population                0.876320    1.000000    0.904637       0.002380   \n",
      "households                0.980170    0.904637    1.000000       0.010781   \n",
      "median_income            -0.009740    0.002380    0.010781       1.000000   \n",
      "median_house_value        0.047689   -0.026920    0.064506       0.687160   \n",
      "\n",
      "                    median_house_value  \n",
      "longitude                    -0.047432  \n",
      "latitude                     -0.142724  \n",
      "housing_median_age            0.114110  \n",
      "total_rooms                   0.135097  \n",
      "total_bedrooms                0.047689  \n",
      "population                   -0.026920  \n",
      "households                    0.064506  \n",
      "median_income                 0.687160  \n",
      "median_house_value            1.000000  \n"
     ]
    },
    {
     "data": {
      "text/plain": [
       "median_house_value    1.000000\n",
       "median_income         0.687160\n",
       "total_rooms           0.135097\n",
       "housing_median_age    0.114110\n",
       "households            0.064506\n",
       "total_bedrooms        0.047689\n",
       "population           -0.026920\n",
       "longitude            -0.047432\n",
       "latitude             -0.142724\n",
       "Name: median_house_value, dtype: float64"
      ]
     },
     "execution_count": 54,
     "metadata": {},
     "output_type": "execute_result"
    }
   ],
   "source": [
    "# 寻找相关性\n",
    "# 由于数据集不大，你可以使用corr（）方法轻松计算出每对属性\n",
    "# 之间的标准相关系数（也称为皮尔逊相关系数）：\n",
    "corr_matrix = housing.corr()\n",
    "print(corr_matrix)\n",
    "corr_matrix[\"median_house_value\"].sort_values(ascending=False)\n",
    "# 关系数的范围从-1变化到1。越接近1，表示有越强的正相关；\n",
    "# 比如，当收入中位数上升时，房价中位数也趋于上升。当系数接近\n",
    "# 于-1，则表示有强烈的负相关；注意看纬度和房价中位数之间呈现出\n",
    "# 轻微的负相关（也就是说，越往北走，房价倾向于下降）。最后，系\n",
    "# 数靠近0则说明二者之间没有线性相关性。\n",
    "\n"
   ]
  },
  {
   "cell_type": "code",
   "execution_count": 55,
   "metadata": {
    "pycharm": {
     "is_executing": false,
     "name": "#%%\n"
    }
   },
   "outputs": [],
   "source": [
    "# 还有一种方法可以检测属性之间的相关性，就是使用Pandas的\n",
    "# scatter_matrix函数，它会绘制出每个数值属性相对于其他数值属性的\n",
    "# 相关性。现在我们有个数值属性，可以得到112＝121个图形，篇幅原\n",
    "# 因无法完全展示，这里我们仅关注那些与房价中位数属性最相关的，\n",
    "# 可算作是最有潜力的属性\n",
    "# from pandas.tools.plotting import scatter_matrix\n",
    "# attributes = [\"median_house_value\", \"median_income\", \"total_rooms\",\n",
    "# \"housing_median_age\"]\n",
    "# scatter_matrix(housing[attributes], figsize=(12, 8))"
   ]
  },
  {
   "cell_type": "code",
   "execution_count": 56,
   "metadata": {
    "pycharm": {
     "is_executing": false,
     "name": "#%%\n"
    }
   },
   "outputs": [
    {
     "data": {
      "text/plain": [
       "[0, 16, 0, 550000]"
      ]
     },
     "execution_count": 56,
     "metadata": {},
     "output_type": "execute_result"
    },
    {
     "data": {
      "image/png": "[encoded data removed]",
      "text/plain": [
       "<matplotlib.figure.Figure at 0x1f3eb41d2e8>"
      ]
     },
     "metadata": {},
     "output_type": "display_data"
    }
   ],
   "source": [
    "# 最有潜力能够预测房价中位数的属性是收入中位数，所以我们放\n",
    "# 大来看看其相关性的散点图\n",
    "\n",
    "housing.plot(kind=\"scatter\", x=\"median_income\", y=\"median_house_value\",\n",
    "alpha=0.1)\n",
    "plt.axis([0, 16, 0, 550000])\n",
    "\n",
    "# 上图说明了几个问题。首先，二者相关性确实很强，你可以清\n",
    "# 楚地看到上升的趋势，并且点也不是太分散。其次，前面我们提到过\n",
    "# 50万美元的价格上限在图中是一条清晰的水平线，不过除此以外，这\n",
    "# 张图还显示出几条不那么明显的直线：45万美元附近有一条水平线，\n",
    "# 35万美元附近也有一条，28万美元附近似乎隐约也有一条，再往下可\n",
    "# 能还有一些。为了避免你的算法学习之后重现这些怪异数据，你可能\n",
    "# 会尝试删除这些相应地区。"
   ]
  },
  {
   "cell_type": "code",
   "execution_count": 74,
   "metadata": {
    "pycharm": {
     "is_executing": false,
     "name": "#%%\n"
    }
   },
   "outputs": [
    {
     "data": {
      "text/plain": [
       "median_house_value          1.000000\n",
       "median_income               0.687160\n",
       "rooms_per_household         0.146285\n",
       "total_rooms                 0.135097\n",
       "housing_median_age          0.114110\n",
       "households                  0.064506\n",
       "total_bedrooms              0.047689\n",
       "population_per_household   -0.021985\n",
       "population                 -0.026920\n",
       "longitude                  -0.047432\n",
       "latitude                   -0.142724\n",
       "bedrooms_per_room          -0.259984\n",
       "Name: median_house_value, dtype: float64"
      ]
     },
     "execution_count": 74,
     "metadata": {},
     "output_type": "execute_result"
    }
   ],
   "source": [
    "# 验不同属性的组合\n",
    "# 通过前面的章节，希望让你了解到了一些探索数据并从中获得洞\n",
    "# 察的方法。在准备开始给机器学习的算法输入数据之前，你可能识别\n",
    "# 出了一些异常数据，需要提前清理掉；同时，说不定你还发现了不同\n",
    "# 属性之间的某些有趣联系，特别是跟目标属性相关的联系；再有，你\n",
    "# 还可能注意到某些属性的分布显示出了明显的“重尾”分布，于是你还\n",
    "# 需要对它们进行转换处理（例如，计算其对数）。当然了，每个项目\n",
    "# 的历程都不一样，但是大致思路都相似。\n",
    "\n",
    "\n",
    "# 在准备给机器学习算法输入数据之前，你要做的最后一件事应该\n",
    "# 是尝试各种属性的组合。比如，如果你不知道一个地区有多少个家\n",
    "# 庭，那么知道一个地区的“房间总数”也没什么用。你真正想要知道的\n",
    "# 是一个家庭的房间数量。同样地，单看“卧室总数”这个属性本身，也\n",
    "# 没什么意义，你可能是想拿它和“房间总数”来对比，或者拿来同“每\n",
    "# 个家庭的人口数”这个属性结合也似乎挺有意思。我们来试着创建这\n",
    "# 些新属性：\n",
    "housing[\"rooms_per_household\"] = housing[\"total_rooms\"]/housing[\"households\"]\n",
    "housing[\"bedrooms_per_room\"] = housing[\"total_bedrooms\"]/housing[\"total_rooms\"]\n",
    "housing[\"population_per_household\"]=housing[\"population\"]/housing[\"households\"]\n",
    "# 然后再来看看关联矩阵：\n",
    "corr_matrix = housing.corr()\n",
    "corr_matrix[\"median_house_value\"].sort_values(ascending=False)\n",
    "\n",
    "# 新的属性bedrooms_per_room较之“房间总\n",
    "# 数”或是“卧室总数”与房价中位数的相关性都要高得多。显然卧室/房\n",
    "# 间比例更低的房屋，往往价格更贵。同样“每个家庭的房间数量”也\n",
    "# 比“房间总数”更具信息量——房屋越大，价格越贵。\n"
   ]
  },
  {
   "cell_type": "markdown",
   "metadata": {
    "pycharm": {
     "is_executing": false,
     "name": "#%% md \n"
    }
   },
   "source": [
    "机器学习算法的数据准备\n",
    "\n",
    "先回到一个干净的数据集（再次复制\n",
    "strat_train_set），然后将预测器和标签分开，因为这里我们不一定对\n",
    "它们使用相同的转换方式（需要注意drop（）会创建一个数据副本，\n",
    "但是不影响strat_train_set）：\n"
   ]
  },
  {
   "cell_type": "code",
   "execution_count": 75,
   "metadata": {
    "pycharm": {
     "is_executing": false,
     "name": "#%%\n"
    }
   },
   "outputs": [],
   "source": [
    "housing = strat_train_set.drop(\"median_house_value\", axis=1)\n",
    "housing_labels = strat_train_set[\"median_house_value\"].copy()\n"
   ]
  },
  {
   "cell_type": "markdown",
   "metadata": {
    "pycharm": {
     "is_executing": false,
     "name": "#%% md \n"
    }
   },
   "source": [
    "数据清理\n",
    "\n",
    "大部分的机器学习算法无法在缺失的特征上工作，所以我们要创\n",
    "建一些函数来辅助它。前面我们已经注意到total_bedrooms属性有部\n",
    "分值缺失，所以我们要解决它。有以下三种选择：\n",
    "·放弃这些相应的地区\n",
    "·放弃这个属性\n",
    "·将缺失的值设置为某个值（0、平均数或者中位数等都可以）\n",
    "通过DataFrame的dropna（）、drop（）和fillna（）方法，可以\n",
    "轻松完成这些操作："
   ]
  },
  {
   "cell_type": "code",
   "execution_count": 76,
   "metadata": {
    "pycharm": {
     "is_executing": false,
     "name": "#%% \n"
    }
   },
   "outputs": [
    {
     "data": {
      "text/plain": [
       "17606     351.0\n",
       "18632     108.0\n",
       "14650     471.0\n",
       "3230      371.0\n",
       "3555     1525.0\n",
       "19480     588.0\n",
       "8879      317.0\n",
       "13685     293.0\n",
       "4937      465.0\n",
       "4861      229.0\n",
       "16365     951.0\n",
       "19684     559.0\n",
       "19234     501.0\n",
       "13956     582.0\n",
       "2390      495.0\n",
       "11176     649.0\n",
       "15614     545.0\n",
       "2953      251.0\n",
       "13209     409.0\n",
       "6569      261.0\n",
       "5825      913.0\n",
       "18086     538.0\n",
       "16718     945.0\n",
       "13600     278.0\n",
       "13989     444.0\n",
       "15168     190.0\n",
       "6747      563.0\n",
       "7398      366.0\n",
       "5562      133.0\n",
       "16121     416.0\n",
       "          ...  \n",
       "12380     767.0\n",
       "5618       24.0\n",
       "10060     539.0\n",
       "18067     438.0\n",
       "4471      797.0\n",
       "19786     300.0\n",
       "9969      393.0\n",
       "14621    1051.0\n",
       "579       302.0\n",
       "11682    1615.0\n",
       "245       460.0\n",
       "12130     537.0\n",
       "16441     544.0\n",
       "11016     428.0\n",
       "19934     422.0\n",
       "1364       34.0\n",
       "1236      829.0\n",
       "5364      272.0\n",
       "11703     300.0\n",
       "10356     449.0\n",
       "15270     515.0\n",
       "3754      373.0\n",
       "12166     756.0\n",
       "6003      932.0\n",
       "7364      212.0\n",
       "6563      236.0\n",
       "12053     294.0\n",
       "13908     872.0\n",
       "11159     380.0\n",
       "15775     682.0\n",
       "Name: total_bedrooms, Length: 16512, dtype: float64"
      ]
     },
     "execution_count": 76,
     "metadata": {},
     "output_type": "execute_result"
    }
   ],
   "source": [
    "housing.dropna(subset=[\"total_bedrooms\"]) # option 1\n",
    "housing.drop(\"total_bedrooms\", axis=1) # option 2\n",
    "median = housing[\"total_bedrooms\"].median()\n",
    "housing[\"total_bedrooms\"].fillna(median) # option 3\n"
   ]
  },
  {
   "cell_type": "markdown",
   "metadata": {
    "pycharm": {
     "name": "#%% md\n"
    }
   },
   "source": [
    "如果你选择方法3，你需要计算出训练集的中位数值，然后用它\n",
    "填充训练集中的缺失值，但也别忘了保存这个计算出来的中位数值，\n",
    "因为后面可能需要用到。比如重新评估系统时，你需要更换测试集中\n",
    "的缺失值；或者在系统上线时，需要使用新数据替代缺失值。\n"
   ]
  },
  {
   "cell_type": "markdown",
   "metadata": {
    "pycharm": {
     "is_executing": false,
     "name": "#%% md\n"
    }
   },
   "source": [
    "Scikit-Learn提供了一个非常容易上手的教程来处理缺失值：\n",
    "imputer。使用方法如下，首先，你需要创建一个imputer实例，指定\n",
    "你要用属性的中位数值替换该属性的缺失值："
   ]
  },
  {
   "cell_type": "code",
   "execution_count": 77,
   "metadata": {
    "pycharm": {
     "is_executing": false,
     "name": "#%%\n"
    }
   },
   "outputs": [],
   "source": [
    "from sklearn.preprocessing import Imputer\n",
    "imputer = Imputer(strategy=\"median\")"
   ]
  },
  {
   "cell_type": "markdown",
   "metadata": {
    "pycharm": {
     "name": "#%% md\n"
    }
   },
   "source": [
    "由于中位数值只能在数值属性上计算，所以我们需要创建一个没\n",
    "有文本属性的数据副本ocean_proximity："
   ]
  },
  {
   "cell_type": "code",
   "execution_count": 78,
   "metadata": {
    "pycharm": {
     "is_executing": false,
     "name": "#%% \n"
    }
   },
   "outputs": [
    {
     "data": {
      "text/plain": [
       "Imputer(axis=0, copy=True, missing_values='NaN', strategy='median', verbose=0)"
      ]
     },
     "execution_count": 78,
     "metadata": {},
     "output_type": "execute_result"
    }
   ],
   "source": [
    "housing_num = housing.drop(\"ocean_proximity\", axis=1)\n",
    "# 使用fit（）方法将imputer实例适配到训练集：\n",
    "imputer.fit(housing_num)"
   ]
  },
  {
   "cell_type": "markdown",
   "metadata": {
    "pycharm": {
     "name": "#%% md\n"
    }
   },
   "source": [
    "这里imputer仅仅只是计算了每个属性的中位数值，并将结果存\n",
    "储在其实例变量statistics_中。虽然只有total_bedrooms这个属性存在\n",
    "缺失值，但是我们无法确认系统启动之后新数据中是否一定不存在任\n",
    "何缺失值，所以稳妥起见，还是将imputer应用于所有的数值属性："
   ]
  },
  {
   "cell_type": "code",
   "execution_count": 79,
   "metadata": {
    "pycharm": {
     "is_executing": false,
     "name": "#%% \n"
    }
   },
   "outputs": [
    {
     "data": {
      "text/plain": [
       "array([ -118.51  ,    34.26  ,    29.    ,  2119.5   ,   433.    ,\n",
       "        1164.    ,   408.    ,     3.5409])"
      ]
     },
     "execution_count": 79,
     "metadata": {},
     "output_type": "execute_result"
    }
   ],
   "source": [
    "imputer.statistics_\n",
    "housing_num.median().values"
   ]
  },
  {
   "cell_type": "markdown",
   "metadata": {
    "pycharm": {
     "name": "#%% md\n"
    }
   },
   "source": [
    "现在，你可以使用这个“训练有素”的imputer将缺失值替换成中位\n",
    "数值完成训练集转换："
   ]
  },
  {
   "cell_type": "code",
   "execution_count": 80,
   "metadata": {
    "pycharm": {
     "is_executing": false,
     "name": "#%% \n"
    }
   },
   "outputs": [
    {
     "name": "stdout",
     "output_type": "stream",
     "text": [
      "[[ -121.89      37.29      38.     ...,   710.       339.         2.7042]\n",
      " [ -121.93      37.05      14.     ...,   306.       113.         6.4214]\n",
      " [ -117.2       32.77      31.     ...,   936.       462.         2.8621]\n",
      " ..., \n",
      " [ -116.4       34.09       9.     ...,  2098.       765.         3.2723]\n",
      " [ -118.01      33.82      31.     ...,  1356.       356.         4.0625]\n",
      " [ -122.45      37.77      52.     ...,  1269.       639.         3.575 ]]\n"
     ]
    }
   ],
   "source": [
    "X = imputer.transform(housing_num)\n",
    "print(X)"
   ]
  },
  {
   "cell_type": "markdown",
   "metadata": {
    "pycharm": {
     "name": "#%% md\n"
    }
   },
   "source": [
    "结果是一个包含转换后特征的Numpy数组。如果你想要将它放回\n",
    "Pandas DataFrame，也很简单："
   ]
  },
  {
   "cell_type": "code",
   "execution_count": 81,
   "metadata": {
    "pycharm": {
     "is_executing": false,
     "name": "#%%\n"
    }
   },
   "outputs": [
    {
     "name": "stdout",
     "output_type": "stream",
     "text": [
      "       longitude  latitude  housing_median_age  total_rooms  total_bedrooms  \\\n",
      "0        -121.89     37.29                38.0       1568.0           351.0   \n",
      "1        -121.93     37.05                14.0        679.0           108.0   \n",
      "2        -117.20     32.77                31.0       1952.0           471.0   \n",
      "3        -119.61     36.31                25.0       1847.0           371.0   \n",
      "4        -118.59     34.23                17.0       6592.0          1525.0   \n",
      "5        -120.97     37.66                24.0       2930.0           588.0   \n",
      "6        -118.50     34.04                52.0       2233.0           317.0   \n",
      "7        -117.24     34.15                26.0       2041.0           293.0   \n",
      "8        -118.26     33.99                47.0       1865.0           465.0   \n",
      "9        -118.28     34.02                29.0        515.0           229.0   \n",
      "10       -121.31     38.02                24.0       4157.0           951.0   \n",
      "11       -121.62     39.14                41.0       2183.0           559.0   \n",
      "12       -122.69     38.51                18.0       3364.0           501.0   \n",
      "13       -117.06     34.17                21.0       2520.0           582.0   \n",
      "14       -119.46     36.91                12.0       2980.0           495.0   \n",
      "15       -117.96     33.83                30.0       2838.0           649.0   \n",
      "16       -122.41     37.81                25.0       1178.0           545.0   \n",
      "17       -119.02     35.35                42.0       1239.0           251.0   \n",
      "18       -117.72     34.05                 8.0       1841.0           409.0   \n",
      "19       -118.15     34.20                46.0       1505.0           261.0   \n",
      "20       -118.30     34.19                14.0       3615.0           913.0   \n",
      "21       -122.05     37.31                25.0       4111.0           538.0   \n",
      "22       -120.66     35.49                17.0       4422.0           945.0   \n",
      "23       -117.25     34.16                37.0       1709.0           278.0   \n",
      "24       -117.19     34.94                31.0       2034.0           444.0   \n",
      "25       -117.06     33.02                24.0        830.0           190.0   \n",
      "26       -118.07     34.11                41.0       2869.0           563.0   \n",
      "27       -118.24     33.96                44.0       1338.0           366.0   \n",
      "28       -118.28     33.91                41.0        620.0           133.0   \n",
      "29       -122.46     37.79                52.0       2059.0           416.0   \n",
      "...          ...       ...                 ...          ...             ...   \n",
      "16482    -116.47     33.77                26.0       4300.0           767.0   \n",
      "16483    -118.23     33.78                20.0         59.0            24.0   \n",
      "16484    -121.06     39.25                17.0       3127.0           539.0   \n",
      "16485    -122.03     37.29                22.0       3118.0           438.0   \n",
      "16486    -118.17     34.09                33.0       2907.0           797.0   \n",
      "16487    -122.86     40.56                12.0       1350.0           300.0   \n",
      "16488    -122.48     38.51                49.0       1977.0           393.0   \n",
      "16489    -117.17     32.78                17.0       3845.0          1051.0   \n",
      "16490    -122.07     37.71                40.0       1808.0           302.0   \n",
      "16491    -118.01     33.87                25.0       6348.0          1615.0   \n",
      "16492    -122.21     37.78                43.0       1702.0           460.0   \n",
      "16493    -117.23     33.94                 8.0       2405.0           537.0   \n",
      "16494    -121.29     38.14                34.0       2770.0           544.0   \n",
      "16495    -117.82     33.76                33.0       2774.0           428.0   \n",
      "16496    -119.34     36.31                14.0       1635.0           422.0   \n",
      "16497    -122.14     38.03                42.0        118.0            34.0   \n",
      "16498    -120.37     38.23                13.0       4401.0           829.0   \n",
      "16499    -118.42     34.04                52.0       1358.0           272.0   \n",
      "16500    -117.97     33.88                16.0       2003.0           300.0   \n",
      "16501    -117.67     33.60                25.0       3164.0           449.0   \n",
      "16502    -117.29     33.08                18.0       3225.0           515.0   \n",
      "16503    -118.37     34.18                36.0       1608.0           373.0   \n",
      "16504    -117.14     33.81                13.0       4496.0           756.0   \n",
      "16505    -117.77     34.08                27.0       5929.0           932.0   \n",
      "16506    -118.20     33.97                43.0        825.0           212.0   \n",
      "16507    -118.13     34.20                46.0       1271.0           236.0   \n",
      "16508    -117.56     33.88                40.0       1196.0           294.0   \n",
      "16509    -116.40     34.09                 9.0       4855.0           872.0   \n",
      "16510    -118.01     33.82                31.0       1960.0           380.0   \n",
      "16511    -122.45     37.77                52.0       3095.0           682.0   \n",
      "\n",
      "       population  households  median_income  \n",
      "0           710.0       339.0         2.7042  \n",
      "1           306.0       113.0         6.4214  \n",
      "2           936.0       462.0         2.8621  \n",
      "3          1460.0       353.0         1.8839  \n",
      "4          4459.0      1463.0         3.0347  \n",
      "5          1448.0       570.0         3.5395  \n",
      "6           769.0       277.0         8.3839  \n",
      "7           936.0       375.0         6.0000  \n",
      "8          1916.0       438.0         1.8242  \n",
      "9          2690.0       217.0         0.4999  \n",
      "10         2734.0       879.0         2.7981  \n",
      "11         1202.0       506.0         1.6902  \n",
      "12         1442.0       506.0         6.6854  \n",
      "13          416.0       151.0         2.7120  \n",
      "14         1184.0       429.0         3.9141  \n",
      "15         1758.0       593.0         3.3831  \n",
      "16          592.0       441.0         3.6728  \n",
      "17          776.0       272.0         1.9830  \n",
      "18         1243.0       394.0         4.0614  \n",
      "19          857.0       269.0         4.5000  \n",
      "20         1924.0       852.0         3.5083  \n",
      "21         1585.0       568.0         9.2298  \n",
      "22         2307.0       885.0         2.8285  \n",
      "23          744.0       274.0         3.7188  \n",
      "24         1097.0       367.0         2.1522  \n",
      "25          279.0       196.0         1.9176  \n",
      "26         1627.0       533.0         5.0736  \n",
      "27         1765.0       388.0         1.7778  \n",
      "28          642.0       162.0         2.6546  \n",
      "29          999.0       402.0         3.7419  \n",
      "...           ...         ...            ...  \n",
      "16482      1557.0       669.0         4.4107  \n",
      "16483        69.0        23.0         2.5588  \n",
      "16484      1390.0       520.0         3.9537  \n",
      "16485      1147.0       425.0        10.3653  \n",
      "16486      3212.0       793.0         2.2348  \n",
      "16487       423.0       172.0         1.7393  \n",
      "16488       741.0       339.0         3.1312  \n",
      "16489      3102.0       944.0         2.3658  \n",
      "16490       746.0       270.0         5.3015  \n",
      "16491      4188.0      1497.0         3.1390  \n",
      "16492      1227.0       407.0         1.7188  \n",
      "16493      1594.0       517.0         3.0789  \n",
      "16494      1409.0       535.0         3.2338  \n",
      "16495      1229.0       407.0         6.2944  \n",
      "16496       870.0       399.0         2.7000  \n",
      "16497        54.0        30.0         2.5795  \n",
      "16498       924.0       383.0         2.6942  \n",
      "16499       574.0       267.0         5.6454  \n",
      "16500      1172.0       318.0         6.0394  \n",
      "16501      1517.0       453.0         6.7921  \n",
      "16502      1463.0       476.0         5.7787  \n",
      "16503      1217.0       374.0         2.9728  \n",
      "16504      2044.0       695.0         3.2778  \n",
      "16505      2817.0       828.0         6.0434  \n",
      "16506       820.0       184.0         1.8897  \n",
      "16507       573.0       210.0         4.9312  \n",
      "16508      1052.0       258.0         2.0682  \n",
      "16509      2098.0       765.0         3.2723  \n",
      "16510      1356.0       356.0         4.0625  \n",
      "16511      1269.0       639.0         3.5750  \n",
      "\n",
      "[16512 rows x 8 columns]\n"
     ]
    }
   ],
   "source": [
    "housing_tr = pd.DataFrame(X, columns=housing_num.columns)\n",
    "print(housing_tr)"
   ]
  },
  {
   "cell_type": "markdown",
   "metadata": {
    "pycharm": {
     "is_executing": false,
     "name": "#%% md\n"
    }
   },
   "source": [
    "处理文本和分类属性\n",
    "之前我们排除了分类属性ocean_proximity，因为它是一个文本属\n",
    "性，我们无法计算它的中位数值。大部分的机器学习算法都更易于跟\n",
    "数字打交道，所以我们先将这些文本标签转化为数字。\n",
    "Scikit-Learn为这类任务提供了一个转换器LabelEncoder："
   ]
  },
  {
   "cell_type": "code",
   "execution_count": 82,
   "metadata": {
    "pycharm": {
     "is_executing": false,
     "name": "#%% \n"
    }
   },
   "outputs": [
    {
     "data": {
      "text/plain": [
       "array([0, 0, 4, ..., 1, 0, 3], dtype=int64)"
      ]
     },
     "execution_count": 82,
     "metadata": {},
     "output_type": "execute_result"
    }
   ],
   "source": [
    "from sklearn.preprocessing import LabelEncoder\n",
    "encoder = LabelEncoder()\n",
    "housing_cat = housing[\"ocean_proximity\"]\n",
    "housing_cat_encoded = encoder.fit_transform(housing_cat)\n",
    "housing_cat_encoded"
   ]
  },
  {
   "cell_type": "markdown",
   "metadata": {
    "pycharm": {
     "name": "#%% md\n"
    }
   },
   "source": [
    "现在好了：我们可以将这套数值数据应用于任意机器学习算法。\n",
    "你可以使用classes_属性来查看这个编码器已学习的映射（“<1H\n",
    "OCEAN”对应为0，“INLAND”对应为1，等等）："
   ]
  },
  {
   "cell_type": "code",
   "execution_count": 83,
   "metadata": {
    "pycharm": {
     "is_executing": false,
     "name": "#%% \n"
    }
   },
   "outputs": [
    {
     "name": "stdout",
     "output_type": "stream",
     "text": [
      "['<1H OCEAN' 'INLAND' 'ISLAND' 'NEAR BAY' 'NEAR OCEAN']\n"
     ]
    }
   ],
   "source": [
    "print(encoder.classes_)"
   ]
  },
  {
   "cell_type": "markdown",
   "metadata": {
    "pycharm": {
     "name": "#%% md\n"
    }
   },
   "source": [
    "这种代表方式产生的一个问题是，机器学习算法会以为两个相近\n",
    "的数字比两个离得较远的数字更为相似一些。显然，真实情况并非如\n",
    "此（比如，类别0和类别4之间就比类别0和类别1之间的相似度更\n",
    "高）。为了解决这个问题，常见的解决方案是给每个类别创建一个二\n",
    "进制的属性：当类别是“<1H  OCEAN”时，一个属性为1（其他为\n",
    "0），当类别是“INLAND”时，另一个属性为1（其他为0），以此类\n",
    "推。这就是独热编码，因为只有一个属性为1（热），其他均为\n",
    "0（冷）。\n",
    "\n",
    "Scikit-Learn提供了一个OneHotEncoder编码器，可以将整数分类\n",
    "值转换为独热向量。我们用它来将类别编码为独热向量。值得注意的\n",
    "是，fit_transform（）需要一个二维数组，但是housing_cat_encoded是\n",
    "一个一维数组，所以我们需要将它重塑"
   ]
  },
  {
   "cell_type": "code",
   "execution_count": 84,
   "metadata": {
    "pycharm": {
     "name": "#%% \n"
    }
   },
   "outputs": [
    {
     "data": {
      "text/plain": [
       "<16512x5 sparse matrix of type '<class 'numpy.float64'>'\n",
       "\twith 16512 stored elements in Compressed Sparse Row format>"
      ]
     },
     "execution_count": 84,
     "metadata": {},
     "output_type": "execute_result"
    }
   ],
   "source": [
    "from sklearn.preprocessing import OneHotEncoder\n",
    "encoder = OneHotEncoder()\n",
    "housing_cat_1hot = encoder.fit_transform(housing_cat_encoded.reshape(-1,1))\n",
    "housing_cat_1hot\n"
   ]
  },
  {
   "cell_type": "markdown",
   "metadata": {
    "pycharm": {
     "name": "#%% md\n"
    }
   },
   "source": [
    "注意到这里的输出是一个SciPy稀疏矩阵，而不是一个NumPy数\n",
    "组。当你有成千上万种类别的分类属性时，这个函数会非常有用。因\n",
    "为当独热编码完成之后，我们会得到一个几千列的矩阵，并且全是\n",
    "0，每行仅有一个1。占用大量内存来存储0是一件非常浪费的事情，\n",
    "因此稀疏矩阵选择仅存储非零元素的位置。而你依旧可以像使用一个\n",
    "普通的二维数组那样来使用它， [4] 当然如果你实在想把它转换成一个\n",
    "（密集的）NumPy数组，只需要调用toarray（）方法即可："
   ]
  },
  {
   "cell_type": "code",
   "execution_count": 85,
   "metadata": {
    "pycharm": {
     "name": "#%% \n"
    }
   },
   "outputs": [
    {
     "data": {
      "text/plain": [
       "array([[ 1.,  0.,  0.,  0.,  0.],\n",
       "       [ 1.,  0.,  0.,  0.,  0.],\n",
       "       [ 0.,  0.,  0.,  0.,  1.],\n",
       "       ..., \n",
       "       [ 0.,  1.,  0.,  0.,  0.],\n",
       "       [ 1.,  0.,  0.,  0.,  0.],\n",
       "       [ 0.,  0.,  0.,  1.,  0.]])"
      ]
     },
     "execution_count": 85,
     "metadata": {},
     "output_type": "execute_result"
    }
   ],
   "source": [
    "housing_cat_1hot.toarray()"
   ]
  },
  {
   "cell_type": "markdown",
   "metadata": {
    "pycharm": {
     "name": "#%% md\n"
    }
   },
   "source": [
    "使用LabelBinarizer类可以一次性完成两个转换（从文本类别转化\n",
    "为整数类别，再从整数类别转换为独热向量）：\n"
   ]
  },
  {
   "cell_type": "code",
   "execution_count": 86,
   "metadata": {
    "pycharm": {
     "name": "#%% \n"
    }
   },
   "outputs": [
    {
     "data": {
      "text/plain": [
       "array([[1, 0, 0, 0, 0],\n",
       "       [1, 0, 0, 0, 0],\n",
       "       [0, 0, 0, 0, 1],\n",
       "       ..., \n",
       "       [0, 1, 0, 0, 0],\n",
       "       [1, 0, 0, 0, 0],\n",
       "       [0, 0, 0, 1, 0]])"
      ]
     },
     "execution_count": 86,
     "metadata": {},
     "output_type": "execute_result"
    }
   ],
   "source": [
    "from sklearn.preprocessing import LabelBinarizer\n",
    "encoder = LabelBinarizer()\n",
    "housing_cat_1hot = encoder.fit_transform(housing_cat)\n",
    "housing_cat_1hot\n"
   ]
  },
  {
   "cell_type": "markdown",
   "metadata": {
    "pycharm": {
     "name": "#%% md\n"
    }
   },
   "source": [
    "注意，这时默认返回的是一个密集的NumPy数组。通过发送\n",
    "sparse_output=True给LabelBinarizer构造函数，可以得到稀疏矩阵。\n"
   ]
  },
  {
   "cell_type": "markdown",
   "metadata": {
    "pycharm": {
     "is_executing": false,
     "name": "#%% md\n"
    }
   },
   "source": [
    "自定义转换器\n",
    "虽然Scikit-Learn已经提供了许多有用的转换器，但是你仍然需要\n",
    "为一些诸如自定义清理操作或是组合特定属性等任务编写自己的转换\n",
    "器。你当然希望让自己的转换器与Scikit-Learn自身的功能（比如流水\n",
    "线）无缝衔接，而由于Scikit-Learn依赖于鸭子类型（duck typing）的\n",
    "编译，而不是继承，所以你所需要的只是创建一个类，然后应用以下\n",
    "三个方法：fit（）（返回自身）、transform（）、fit_transform（）。\n",
    "如果添加TransformerMixin作为基类，就可以直接得到最后一个方\n",
    "法。同时，如果添加BaseEstimator作为基类（并在构造函数中避免\n",
    "*args和**kargs），你还能额外获得两个非常有用的自动调整超参数\n",
    "的方法（get_params（）和set_params（））。例如，我们前面讨论\n",
    "过的组合属性，这里有个简单的转换器类，用来添加组合后的属性\n",
    "\n",
    "\n",
    "**尽管sklearn提供了强大的数据处理功能，有些时候我们需要根据自己的需求自定义一些数据预处理方法，并且让我们这些操作有着sklearnAPI相似的用法，我们所需要做的就是继承BaseEstimator类，并覆写三个方法fit，transform和fit_transform，第三个方法是前两个的整合，如果不想覆写fit_transform,可以继承TransformerMixin(从类名称就可以看出其作用)这个类**"
   ]
  },
  {
   "cell_type": "code",
   "execution_count": 87,
   "metadata": {
    "pycharm": {
     "is_executing": false,
     "name": "#%% \n"
    }
   },
   "outputs": [],
   "source": [
    "from sklearn.base import BaseEstimator, TransformerMixin\n",
    "rooms_ix, bedrooms_ix, population_ix, household_ix = 3, 4, 5, 6\n",
    "class CombinedAttributesAdder(BaseEstimator, TransformerMixin):\n",
    "    def __init__(self, add_bedrooms_per_room = True): # no *args or **kargs\n",
    "        self.add_bedrooms_per_room = add_bedrooms_per_room\n",
    "    def fit(self, X, y=None):\n",
    "        return self # nothing else to do\n",
    "    def transform(self, X, y=None):\n",
    "        rooms_per_household = X[:, rooms_ix] / X[:, household_ix]\n",
    "        population_per_household = X[:, population_ix] / X[:, household_ix]\n",
    "        if self.add_bedrooms_per_room:\n",
    "            bedrooms_per_room = X[:, bedrooms_ix] / X[:, rooms_ix]\n",
    "            return np.c_[X, rooms_per_household, population_per_household,\n",
    "                bedrooms_per_room]\n",
    "        else:\n",
    "            return np.c_[X, rooms_per_household, population_per_household]\n",
    "attr_adder = CombinedAttributesAdder(add_bedrooms_per_room=False)\n",
    "housing_extra_attribs = attr_adder.transform(housing.values)"
   ]
  },
  {
   "cell_type": "markdown",
   "metadata": {
    "pycharm": {
     "name": "#%% md\n"
    }
   },
   "source": [
    "上面定义的类的功能是为原数据集添加新的特征，X[:,3]表示的是第4列所有数据，np.c_表示的是拼接数组。\n",
    "另外sklearn是不能直接处理DataFrames的，那么我们需要自定义一个处理的方法将之转化为numpy类型"
   ]
  },
  {
   "cell_type": "markdown",
   "metadata": {},
   "source": [
    "在本例中，转换器有一个超参数add_bedrooms_per_room默认设\n",
    "置为True（提供合理的默认值通常是很有帮助的）。这个超参数可以\n",
    "让你轻松知晓添加这个属性是否有助于机器学习的算法。更广泛地\n",
    "说，如果你对数据准备的步骤没有充分的信心，就可以添加这个超参\n",
    "数来进行把关。这些数据准备步骤的执行越自动化，你自动尝试的组\n",
    "合也就越多，从而有更大可能从中找到一个重要的组合（还节省了大\n",
    "量时间）。\n",
    "特征缩放\n",
    "最重要也最需要应用到数据上的转换器，就是特征缩放。如果输\n",
    "入的数值属性具有非常大的比例差异，往往导致机器学习算法的性能\n",
    "表现不佳，当然也有极少数特例。案例中的房屋数据就是这样：房间\n",
    "总数的范围从6到39320，而收入中位数的范围是0到15。注意，目标\n",
    "值通常不需要缩放。\n",
    "同比例缩放所有属性，常用的两种方法是：最小-最大缩放和标\n",
    "准化。\n",
    "最小-最大缩放（又叫作归一化）很简单：将值重新缩放使其最\n",
    "终范围归于0到1之间。实现方法是将值减去最小值并除以最大值和最\n",
    "小值的差。对此，Scikit-Learn提供了一个名为MinMaxScaler的转换\n",
    "器。如果出于某种原因，你希望范围不是0～1，你可以通过调整超参\n",
    "数feature_range进行更改。\n",
    "标准化则完全不一样：首先减去平均值（所以标准化值的均值总\n",
    "是零），然后除以方差，从而使得结果的分布具备单位方差。不同于\n",
    "最小-最大缩放的是，标准化不将值绑定到特定范围，对某些算法而\n",
    "言，这可能是个问题（例如，神经网络期望的输入值范围通常是0到\n",
    "1）。但是标准化的方法受异常值的影响更小。例如，假设某个地区\n",
    "的平均收入等于100（错误数据）。最小-最大缩放会将所有其他值从\n",
    "0～15降到0～0.15，而标准化则不会受到很大影响。Scikit-Learn提供\n",
    "了一个标准化的转换器StandadScaler。"
   ]
  },
  {
   "cell_type": "markdown",
   "metadata": {},
   "source": [
    "转换流水线\n",
    "正如你所见，许多数据转换的步骤需要以正确的顺序来执行。而\n",
    "Scikit-Learn正好提供了Pipeline来支持这样的转换。下面是一个数值\n",
    "属性的流水线例子："
   ]
  },
  {
   "cell_type": "code",
   "execution_count": 88,
   "metadata": {
    "pycharm": {
     "is_executing": false,
     "name": "#%%\n"
    }
   },
   "outputs": [],
   "source": [
    "from sklearn.pipeline import Pipeline\n",
    "from sklearn.preprocessing import StandardScaler\n",
    "num_pipeline = Pipeline([\n",
    "('imputer', Imputer(strategy=\"median\")),\n",
    "('attribs_adder', CombinedAttributesAdder()),\n",
    "('std_scaler', StandardScaler()),\n",
    "])\n",
    "housing_num_tr = num_pipeline.fit_transform(housing_num)\n"
   ]
  },
  {
   "cell_type": "markdown",
   "metadata": {
    "pycharm": {
     "name": "#%% md\n"
    }
   },
   "source": [
    "另外sklearn是不能直接处理DataFrames的，那么我们需要自定义一个处理的方法将之转化为numpy类型\n"
   ]
  },
  {
   "cell_type": "code",
   "execution_count": 89,
   "metadata": {
    "pycharm": {
     "is_executing": false,
     "name": "#%%\n"
    }
   },
   "outputs": [],
   "source": [
    "from sklearn.base import BaseEstimator, TransformerMixin\n",
    "\n",
    "# Create a class to select numerical or categorical columns \n",
    "# since Scikit-Learn doesn't handle DataFrames yet\n",
    "class DataFrameSelector(BaseEstimator, TransformerMixin):\n",
    "    def __init__(self, attribute_names):\n",
    "        self.attribute_names = attribute_names\n",
    "    def fit(self, X, y=None):\n",
    "        return self\n",
    "    def transform(self, X):\n",
    "        return X[self.attribute_names].values"
   ]
  },
  {
   "cell_type": "markdown",
   "metadata": {},
   "source": [
    "Pipeline构造函数会通过一系列名称/估算器的配对来定义步骤的\n",
    "序列。除了最后一个是估算器之外，前面都必须是转换器（也就是\n",
    "说，必须有fit_transform（）方法）。至于命名，可以随意，你喜欢\n",
    "就好。\n",
    "当调用流水线的fit（）方法时，会在所有转换器上按照顺序依次\n",
    "调用fit_transform（），将一个调用的输出作为参数传递给下一个调\n",
    "用方法，直到传递到最终的估算器，则只会调用fit（）方法。\n",
    "流水线的方法与最终的估算器的方法相同。在本例中，最后一个\n",
    "估算器是StandardScaler，这是个转换器，因此Pipeline有\n",
    "transform（）方法可以按顺序将所有的转换应用到数据中（如果不希\n",
    "望先调用fit（）再调用transform（），也可以直接调用\n",
    "fit_transform（）方法）。\n",
    "现在，你已经有了一个处理数值的流水线，接下来你需要在分类\n",
    "值上应用LabelBinarizer：不然怎么将这些转换加入单个流水线中？\n",
    "Scikit-Learn为此特意提供了一个FeatureUnion类。你只需要提供一个\n",
    "转换器列表（可以是整个转换器流水线），当transform（）方法被调\n",
    "用时，它会并行运行每个转换器的transform（）方法，等待它们的输\n",
    "出，然后将它们连结起来，返回结果（同样地，调用fit（）方法也会\n",
    "调用每个转换器的fit（）方法）。一个完整的处理数值和分类属性的\n",
    "流水线可能如下所示："
   ]
  },
  {
   "cell_type": "code",
   "execution_count": 90,
   "metadata": {
    "pycharm": {
     "is_executing": false,
     "name": "#%%\n"
    }
   },
   "outputs": [],
   "source": [
    "from sklearn.base import TransformerMixin #gives fit_transform method for free\n",
    "class MyLabelBinarizer(TransformerMixin):\n",
    "    def __init__(self, *args, **kwargs):\n",
    "        self.encoder = LabelBinarizer(*args, **kwargs)\n",
    "    def fit(self, x, y=0):\n",
    "        self.encoder.fit(x)\n",
    "        return self\n",
    "    def transform(self, x, y=0):\n",
    "        return self.encoder.transform(x)"
   ]
  },
  {
   "cell_type": "code",
   "execution_count": 91,
   "metadata": {
    "pycharm": {
     "is_executing": false,
     "name": "#%%\n"
    }
   },
   "outputs": [
    {
     "name": "stdout",
     "output_type": "stream",
     "text": [
      "DataFrameSelector(attribute_names=['longitude', 'latitude', 'housing_median_age', 'total_rooms', 'total_bedrooms', 'population', 'households', 'median_income'])\n",
      "DataFrameSelector(attribute_names=['ocean_proximity'])\n"
     ]
    }
   ],
   "source": [
    "# from sklearn.pipeline import FeatureUnion\n",
    "num_attribs = list(housing_num)\n",
    "# cat_encoder = CategoricalEncoder(encoding=\"onehot-dense\")\n",
    "cat_attribs = [\"ocean_proximity\"]\n",
    "num_pipeline = Pipeline([\n",
    "    ('selector', DataFrameSelector(num_attribs)),\n",
    "    ('imputer', Imputer(strategy=\"median\")),\n",
    "    ('attribs_adder', CombinedAttributesAdder()),\n",
    "    ('std_scaler', StandardScaler()),\n",
    "])\n",
    "print(DataFrameSelector(num_attribs))\n",
    "\n",
    "# cat_pipeline = Pipeline([\n",
    "#         ('selector', DataFrameSelector(cat_attribs)),\n",
    "#         ('cat_encoder', CategoricalEncoder(encoding=\"onehot-dense\")),\n",
    "#     ])\n",
    "print(DataFrameSelector(cat_attribs))\n",
    "cat_pipeline = Pipeline([\n",
    "    ('selector', DataFrameSelector(cat_attribs)),\n",
    "    ('label_binarizer', MyLabelBinarizer()),\n",
    "])"
   ]
  },
  {
   "cell_type": "code",
   "execution_count": 92,
   "metadata": {
    "pycharm": {
     "is_executing": false,
     "name": "#%%\n"
    }
   },
   "outputs": [],
   "source": [
    "from sklearn.pipeline import FeatureUnion\n",
    "full_pipeline = FeatureUnion(transformer_list=[\n",
    "    (\"num_pipeline\", num_pipeline),\n",
    "    (\"cat_pipeline\", cat_pipeline),\n",
    "])"
   ]
  },
  {
   "cell_type": "markdown",
   "metadata": {},
   "source": [
    "运行整条流水线"
   ]
  },
  {
   "cell_type": "code",
   "execution_count": 93,
   "metadata": {
    "pycharm": {
     "is_executing": false,
     "name": "#%%\n"
    }
   },
   "outputs": [
    {
     "data": {
      "text/plain": [
       "(16512, 16)"
      ]
     },
     "execution_count": 93,
     "metadata": {},
     "output_type": "execute_result"
    }
   ],
   "source": [
    "housing_prepared = full_pipeline.fit_transform(housing)\n",
    "housing_prepared\n",
    "housing_prepared.shape"
   ]
  },
  {
   "cell_type": "markdown",
   "metadata": {},
   "source": [
    "每条子流水线从选择器转换器开始：只需要挑出所需的属性（数\n",
    "值或分类），删除其余的数据，然后将生成的DataFrame转换为\n",
    "NumPy数组，数据转换就完成了。Scikit-Learn中没有可以用来处理\n",
    "Pandas DataFrames的 [5] ，因此我们需要为此任务编写一个简单的自定\n",
    "义转换器："
   ]
  },
  {
   "cell_type": "code",
   "execution_count": 94,
   "metadata": {
    "pycharm": {
     "is_executing": false,
     "name": "#%%\n"
    }
   },
   "outputs": [],
   "source": [
    "from sklearn.base import BaseEstimator, TransformerMixin\n",
    "class DataFrameSelector(BaseEstimator, TransformerMixin):\n",
    "    def __init__(self, attribute_names):\n",
    "        self.attribute_names = attribute_names\n",
    "    def fit(self, X, y=None):\n",
    "        return self\n",
    "    def transform(self, X):\n",
    "        return X[self.attribute_names].values"
   ]
  },
  {
   "cell_type": "markdown",
   "metadata": {},
   "source": [
    "择和训练模型\n",
    "至此，你框出了问题，获得了数据，也进行了数据探索，然后对\n",
    "训练集和测试集进行了抽样并编写了转换流水线，从而可以自动清理\n",
    "和准备机器学习算法的数据了！现在是时候选择机器学习模型并展开\n",
    "训练了。\n",
    "培训和评估训练集\n",
    "好消息是，在经过前面的步骤之后，事情现在变得比想象中容易\n",
    "很多。首先，如同我们在上一章所做的，先训练一个线性回归模型："
   ]
  },
  {
   "cell_type": "code",
   "execution_count": 95,
   "metadata": {
    "pycharm": {
     "is_executing": false,
     "name": "#%%\n"
    }
   },
   "outputs": [
    {
     "data": {
      "text/plain": [
       "LinearRegression(copy_X=True, fit_intercept=True, n_jobs=1, normalize=False)"
      ]
     },
     "execution_count": 95,
     "metadata": {},
     "output_type": "execute_result"
    }
   ],
   "source": [
    "from sklearn.linear_model import LinearRegression\n",
    "lin_reg = LinearRegression()\n",
    "lin_reg.fit(housing_prepared, housing_labels)"
   ]
  },
  {
   "cell_type": "markdown",
   "metadata": {},
   "source": [
    "现在你有一个可以工作的线性回归模型了。让我们用几个训练集\n",
    "的实例试试："
   ]
  },
  {
   "cell_type": "code",
   "execution_count": 96,
   "metadata": {
    "pycharm": {
     "is_executing": false,
     "name": "#%%\n"
    }
   },
   "outputs": [
    {
     "name": "stdout",
     "output_type": "stream",
     "text": [
      "Predictions:\t [ 210644.60459286  317768.80697211  210956.43331178   59218.98886849\n",
      "  189747.55849879]\n",
      "Labels:\t\t [286600.0, 340600.0, 196900.0, 46300.0, 254500.0]\n"
     ]
    }
   ],
   "source": [
    "some_data = housing.iloc[:5]\n",
    "some_labels = housing_labels.iloc[:5]\n",
    "some_data_prepared = full_pipeline.transform(some_data)\n",
    "print(\"Predictions:\\t\", lin_reg.predict(some_data_prepared))\n",
    "print(\"Labels:\\t\\t\", list(some_labels))"
   ]
  },
  {
   "cell_type": "markdown",
   "metadata": {},
   "source": [
    "可以工作了，虽然预测还不是很准确。（例如，第二次的预测失\n",
    "效超过50%！）我们可以使用Scikit-Learn的mean_squared_error函数来\n",
    "测量整个训练集上回归模型的RMSE："
   ]
  },
  {
   "cell_type": "code",
   "execution_count": 97,
   "metadata": {
    "pycharm": {
     "is_executing": false,
     "name": "#%%\n"
    }
   },
   "outputs": [
    {
     "data": {
      "text/plain": [
       "68628.198198489234"
      ]
     },
     "execution_count": 97,
     "metadata": {},
     "output_type": "execute_result"
    }
   ],
   "source": [
    "from sklearn.metrics import mean_squared_error\n",
    "housing_predictions = lin_reg.predict(housing_prepared)\n",
    "lin_mse = mean_squared_error(housing_labels, housing_predictions)\n",
    "lin_rmse = np.sqrt(lin_mse)\n",
    "lin_rmse"
   ]
  },
  {
   "cell_type": "markdown",
   "metadata": {},
   "source": [
    "好吧，这虽然比什么都没有要好，但显然也不是一个好看的成\n",
    "绩：大多数地区的median_housing_values分布在120000到265000美元\n",
    "之间，所以典型的预测误差达到68628美元只能算是差强人意。这就\n",
    "是一个典型的模型对训练数据拟合不足的案例。这种情况发生时，通\n",
    "常意味着这些特征可能无法提供足够的信息来做出更好的预测，或者\n",
    "是模型本身不够强大。我们在上一章已经提到，想要修正拟合不足，\n",
    "可以通过选择更强大的模型，或是为算法训练提供更好的特征，又或\n",
    "者是减少对模型的限制等方法。我们这个模型不是一个正则化的模\n",
    "型，所以就排除了最后那个选项。你可以试试添加更多的特征（例\n",
    "如，人口数量的日志），但首先，让我们尝试一个更复杂的模型，看\n",
    "看它到底是怎么工作的。"
   ]
  },
  {
   "cell_type": "markdown",
   "metadata": {},
   "source": [
    "我们来训练一个DecisionTreeRegressor。这是一个非常强大的模\n",
    "型，它能够从数据中找到复杂的非线性关系（关于决策树在第6章会\n",
    "有更详细的介绍）。下面的代码现在看来应该已经很熟悉了："
   ]
  },
  {
   "cell_type": "code",
   "execution_count": 98,
   "metadata": {
    "pycharm": {
     "is_executing": false,
     "name": "#%% \n"
    }
   },
   "outputs": [
    {
     "data": {
      "text/plain": [
       "DecisionTreeRegressor(criterion='mse', max_depth=None, max_features=None,\n",
       "           max_leaf_nodes=None, min_impurity_decrease=0.0,\n",
       "           min_impurity_split=None, min_samples_leaf=1,\n",
       "           min_samples_split=2, min_weight_fraction_leaf=0.0,\n",
       "           presort=False, random_state=None, splitter='best')"
      ]
     },
     "execution_count": 98,
     "metadata": {},
     "output_type": "execute_result"
    }
   ],
   "source": [
    "from sklearn.tree import DecisionTreeRegressor\n",
    "tree_reg = DecisionTreeRegressor()\n",
    "tree_reg.fit(housing_prepared, housing_labels)"
   ]
  },
  {
   "cell_type": "markdown",
   "metadata": {},
   "source": [
    "用训练集来评估一下"
   ]
  },
  {
   "cell_type": "code",
   "execution_count": 99,
   "metadata": {
    "pycharm": {
     "is_executing": false,
     "name": "#%% \n"
    }
   },
   "outputs": [
    {
     "data": {
      "text/plain": [
       "0.0"
      ]
     },
     "execution_count": 99,
     "metadata": {},
     "output_type": "execute_result"
    }
   ],
   "source": [
    "housing_predictions = tree_reg.predict(housing_prepared)\n",
    "tree_mse = mean_squared_error(housing_labels, housing_predictions)\n",
    "tree_rmse = np.sqrt(tree_mse)\n",
    "tree_rmse"
   ]
  },
  {
   "cell_type": "markdown",
   "metadata": {
    "pycharm": {
     "name": "#%% md\n"
    }
   },
   "source": [
    "等等，什么！完全没有错误？这个模型真的可以做到绝对完美\n",
    "吗？当然，更有可能的是这个模型对数据严重过度拟合了。我们怎么\n",
    "确认呢？前面提到过，在你有信心启动模型之前，都不要触碰测试\n",
    "集，所以这里，你需要拿训练集中的一部分用于训练，另一部分用于\n",
    "模型的验证。\n"
   ]
  },
  {
   "cell_type": "markdown",
   "metadata": {
    "pycharm": {
     "name": "#%% md\n"
    }
   },
   "source": [
    "使用交叉验证来更好地进行评估"
   ]
  },
  {
   "cell_type": "code",
   "execution_count": 100,
   "metadata": {
    "pycharm": {
     "is_executing": false,
     "name": "#%%\n"
    }
   },
   "outputs": [],
   "source": [
    "from sklearn.model_selection import cross_val_score\n",
    "scores = cross_val_score(tree_reg, housing_prepared, housing_labels,\n",
    "scoring=\"neg_mean_squared_error\", cv=10)\n",
    "tree_rmse_scores = np.sqrt(-scores)"
   ]
  },
  {
   "cell_type": "markdown",
   "metadata": {
    "pycharm": {
     "name": "#%% md\n"
    }
   },
   "source": [
    "Scikit-Learn的交叉验证功能更倾向于使用效用函数（越大越\n",
    "好）而不是成本函数（越小越好），所以计算分数的函数实际上是负\n",
    "的MSE（一个负值）函数，这就是为什么上面的代码在计算平方根之\n",
    "前会先计算出-scores。\n",
    "让我们看看结果："
   ]
  },
  {
   "cell_type": "code",
   "execution_count": 101,
   "metadata": {
    "pycharm": {
     "is_executing": false,
     "name": "#%% \n"
    }
   },
   "outputs": [
    {
     "name": "stdout",
     "output_type": "stream",
     "text": [
      "Scores: [ 69316.02634772  65498.84994772  71404.25935862  69098.46240168\n",
      "  70580.30735263  75540.88413124  69717.93143674  70428.42648461\n",
      "  75888.17618283  68976.12268448]\n",
      "Mean: 70644.9446328\n",
      "Standard deviation: 2938.93789263\n"
     ]
    }
   ],
   "source": [
    "def display_scores(scores):\n",
    "    print(\"Scores:\", scores)\n",
    "    print(\"Mean:\", scores.mean())\n",
    "    print(\"Standard deviation:\", scores.std())\n",
    "\n",
    "display_scores(tree_rmse_scores)"
   ]
  },
  {
   "cell_type": "markdown",
   "metadata": {
    "pycharm": {
     "name": "#%% md\n"
    }
   },
   "source": [
    "这次的决策树模型好像不如之前表现得好。事实上，看起来简直\n",
    "比线性回归模型还要糟糕！请注意，交叉验证不仅可以得到一个模型\n",
    "性能的评估值，还可以衡量该评估的精确度（即其标准偏差）。这里\n",
    "该决策树得出的评分约为71200，上下浮动±3200。如果你只使用了一\n",
    "个验证集，就收不到这样的结果信息。交叉验证的代价就是要多次训\n",
    "练模型，因此也不是永远都行得通。"
   ]
  },
  {
   "cell_type": "markdown",
   "metadata": {
    "pycharm": {
     "name": "#%% md\n"
    }
   },
   "source": [
    "保险起见，让我们也计算一下线性回归模型的评分："
   ]
  },
  {
   "cell_type": "code",
   "execution_count": 102,
   "metadata": {
    "pycharm": {
     "is_executing": false,
     "name": "#%% \n"
    }
   },
   "outputs": [
    {
     "name": "stdout",
     "output_type": "stream",
     "text": [
      "Scores: [ 66782.73843989  66960.118071    70347.95244419  74739.57052552\n",
      "  68031.13388938  71193.84183426  64969.63056405  68281.61137997\n",
      "  71552.91566558  67665.10082067]\n",
      "Mean: 69052.4613635\n",
      "Standard deviation: 2731.6740018\n"
     ]
    }
   ],
   "source": [
    "lin_scores = cross_val_score(lin_reg, housing_prepared, housing_labels,\n",
    "scoring=\"neg_mean_squared_error\", cv=10)\n",
    "lin_rmse_scores = np.sqrt(-lin_scores)\n",
    "display_scores(lin_rmse_scores)"
   ]
  },
  {
   "cell_type": "markdown",
   "metadata": {
    "pycharm": {
     "name": "#%% md\n"
    }
   },
   "source": [
    "没错，决策树模型确实是严重过度拟合了，以至于表现得比线性\n",
    "回归模型还要糟糕。\n"
   ]
  },
  {
   "cell_type": "markdown",
   "metadata": {
    "pycharm": {
     "name": "#%% md\n"
    }
   },
   "source": [
    "试试最后一个模型：RandomForestRegressor。在后面的\n",
    "第7章中，我们将会了解到随机森林的工作原理，通过对特征的随机\n",
    "子集进行许多个决策树的训练，然后对其预测取平均。在多个模型的\n",
    "基础之上建立模型，称为集成学习，这是进一步推动机器学习算法的\n",
    "好方法。这里我们将跳过大部分代码，因为与其他模型基本相同"
   ]
  },
  {
   "cell_type": "code",
   "execution_count": 103,
   "metadata": {
    "pycharm": {
     "is_executing": false,
     "name": "#%%\n"
    }
   },
   "outputs": [
    {
     "name": "stdout",
     "output_type": "stream",
     "text": [
      "Scores: [ 52869.23106834  49189.93801195  51726.73647871  54995.98190463\n",
      "  50979.93079904  55978.43765914  52283.7609046   51001.92227546\n",
      "  54447.35786983  53389.94422283]\n",
      "Mean: 52686.3241195\n",
      "Standard deviation: 1971.26547795\n"
     ]
    }
   ],
   "source": [
    "from sklearn.ensemble import RandomForestRegressor\n",
    "forest_reg = RandomForestRegressor()\n",
    "forest_reg.fit(housing_prepared, housing_labels)\n",
    "forest_scores = cross_val_score(forest_reg, housing_prepared, housing_labels,\n",
    "                                scoring=\"neg_mean_squared_error\", cv=10)\n",
    "forest_rmse_scores = np.sqrt(-forest_scores)\n",
    "display_scores(forest_rmse_scores)"
   ]
  },
  {
   "cell_type": "markdown",
   "metadata": {
    "pycharm": {
     "name": "#%% md\n"
    }
   },
   "source": [
    "哇，这个就好多了：随机森林看起来很有戏。但是，请注意，训\n",
    "练集上的分数仍然远低于验证集，这意味着该模型仍然对训练集过度\n",
    "拟合。过度拟合的可能解决方案包括简化模型、约束模型（即使其正\n",
    "规化），或是获得更多的训练数据。不过在深入探索随机森林之前，\n",
    "你应该先尝试一遍各种机器学习算法的其他模型（几种具有不同内核\n",
    "的支持向量机，比如神经网络模型等），但是记住——别花太多时间\n",
    "去调整超参数。我们的目的是筛选出几个（2～5个）有效的模型。\n"
   ]
  },
  {
   "cell_type": "markdown",
   "metadata": {
    "pycharm": {
     "name": "#%% md\n"
    }
   },
   "source": [
    "一个尝试过的模型你都应该妥善保存，这样将来你可以轻\n",
    "松回到你想要的模型当中。记得还要同时保存超参数和训练过的参\n",
    "数，以及交叉验证的评分和实际预测的结果。这样你就可以轻松地对\n",
    "比不同模型类型的评分，以及不同模型造成的错误类型。通过Python\n",
    "的pickel模块或是sklearn.externals.joblib，你可以轻松保存Scikit-Learn\n",
    "模型，这样可以更有效地将大型NumPy数组序列化："
   ]
  },
  {
   "cell_type": "markdown",
   "metadata": {
    "pycharm": {
     "name": "#%% md\n"
    }
   },
   "source": [
    "微调模型\n",
    "假设你现在已经有了一个有效模型的候选列表。现在你需要的是\n",
    "对它们进行微调。我们来看几个可行的方法。"
   ]
  },
  {
   "cell_type": "markdown",
   "metadata": {
    "pycharm": {
     "name": "#%% md\n"
    }
   },
   "source": [
    "网格搜索\n",
    "一种微调的方法是手动调整超参数，找到一组很好的超参数值组\n",
    "合。这个过程非常枯燥乏味，你可能坚持不到足够的时间来探索出各\n",
    "种组合。\n",
    "相反，你可以用Scikit-Learn的GridSearchCV来替你进行探索。你\n",
    "所要做的只是告诉它你要进行实验的超参数是什么，以及需要尝试的\n",
    "值，它将会使用交叉验证来评估超参数值的所有可能的组合。例如，\n",
    "下面这段代码搜索RandomForestRegressor的超参数值的最佳组合："
   ]
  },
  {
   "cell_type": "code",
   "execution_count": 104,
   "metadata": {
    "pycharm": {
     "is_executing": false,
     "name": "#%% \n"
    }
   },
   "outputs": [
    {
     "data": {
      "text/plain": [
       "GridSearchCV(cv=5, error_score='raise',\n",
       "       estimator=RandomForestRegressor(bootstrap=True, criterion='mse', max_depth=None,\n",
       "           max_features='auto', max_leaf_nodes=None,\n",
       "           min_impurity_decrease=0.0, min_impurity_split=None,\n",
       "           min_samples_leaf=1, min_samples_split=2,\n",
       "           min_weight_fraction_leaf=0.0, n_estimators=10, n_jobs=1,\n",
       "           oob_score=False, random_state=None, verbose=0, warm_start=False),\n",
       "       fit_params=None, iid=True, n_jobs=1,\n",
       "       param_grid=[{'n_estimators': [3, 10, 30], 'max_features': [2, 4, 6, 8]}, {'bootstrap': [False], 'n_estimators': [3, 10], 'max_features': [2, 3, 4]}],\n",
       "       pre_dispatch='2*n_jobs', refit=True, return_train_score='warn',\n",
       "       scoring='neg_mean_squared_error', verbose=0)"
      ]
     },
     "execution_count": 104,
     "metadata": {},
     "output_type": "execute_result"
    }
   ],
   "source": [
    "from sklearn.model_selection import GridSearchCV\n",
    "param_grid = [\n",
    "{'n_estimators': [3, 10, 30], 'max_features': [2, 4, 6, 8]},\n",
    "{'bootstrap': [False], 'n_estimators': [3, 10], 'max_features': [2, 3, 4]},\n",
    "]\n",
    "forest_reg = RandomForestRegressor()\n",
    "grid_search = GridSearchCV(forest_reg, param_grid, cv=5,\n",
    "scoring='neg_mean_squared_error')\n",
    "grid_search.fit(housing_prepared, housing_labels)"
   ]
  },
  {
   "cell_type": "markdown",
   "metadata": {
    "pycharm": {
     "name": "#%% md\n"
    }
   },
   "source": [
    "可以直接得到最好的估算器"
   ]
  },
  {
   "cell_type": "code",
   "execution_count": 105,
   "metadata": {
    "pycharm": {
     "is_executing": false,
     "name": "#%%\n"
    }
   },
   "outputs": [
    {
     "data": {
      "text/plain": [
       "RandomForestRegressor(bootstrap=True, criterion='mse', max_depth=None,\n",
       "           max_features=6, max_leaf_nodes=None, min_impurity_decrease=0.0,\n",
       "           min_impurity_split=None, min_samples_leaf=1,\n",
       "           min_samples_split=2, min_weight_fraction_leaf=0.0,\n",
       "           n_estimators=30, n_jobs=1, oob_score=False, random_state=None,\n",
       "           verbose=0, warm_start=False)"
      ]
     },
     "execution_count": 105,
     "metadata": {},
     "output_type": "execute_result"
    }
   ],
   "source": [
    "grid_search.best_estimator_"
   ]
  },
  {
   "cell_type": "markdown",
   "metadata": {
    "pycharm": {
     "name": "#%% md\n"
    }
   },
   "source": [
    "如果GridSearchCV被初始化为refit=True（这也是默认值），那么\n",
    "一旦通过交叉验证找到了最佳估算器，它将在整个训练集上重新训\n",
    "练。这通常是个好方法，因为提供更多的数据很可能提升其性能。\n",
    "当然还有评估分数："
   ]
  },
  {
   "cell_type": "code",
   "execution_count": 106,
   "metadata": {
    "pycharm": {
     "is_executing": false,
     "name": "#%%\n"
    }
   },
   "outputs": [
    {
     "name": "stdout",
     "output_type": "stream",
     "text": [
      "64583.2383134 {'max_features': 2, 'n_estimators': 3}\n",
      "55576.8737221 {'max_features': 2, 'n_estimators': 10}\n",
      "52956.3066294 {'max_features': 2, 'n_estimators': 30}\n",
      "60717.6157768 {'max_features': 4, 'n_estimators': 3}\n",
      "52634.1052674 {'max_features': 4, 'n_estimators': 10}\n",
      "50528.7451101 {'max_features': 4, 'n_estimators': 30}\n",
      "58493.2146791 {'max_features': 6, 'n_estimators': 3}\n",
      "52208.3486668 {'max_features': 6, 'n_estimators': 10}\n",
      "49924.8890318 {'max_features': 6, 'n_estimators': 30}\n",
      "58650.6191468 {'max_features': 8, 'n_estimators': 3}\n",
      "52369.1878452 {'max_features': 8, 'n_estimators': 10}\n",
      "50109.8456878 {'max_features': 8, 'n_estimators': 30}\n",
      "62470.3421024 {'bootstrap': False, 'max_features': 2, 'n_estimators': 3}\n",
      "54496.7862909 {'bootstrap': False, 'max_features': 2, 'n_estimators': 10}\n",
      "60353.8008531 {'bootstrap': False, 'max_features': 3, 'n_estimators': 3}\n",
      "52397.6755216 {'bootstrap': False, 'max_features': 3, 'n_estimators': 10}\n",
      "59152.2214146 {'bootstrap': False, 'max_features': 4, 'n_estimators': 3}\n",
      "51855.4721907 {'bootstrap': False, 'max_features': 4, 'n_estimators': 10}\n"
     ]
    }
   ],
   "source": [
    "cvres = grid_search.cv_results_\n",
    "for mean_score, params in zip(cvres[\"mean_test_score\"], cvres[\"params\"]):\n",
    "    print(np.sqrt(-mean_score), params)"
   ]
  },
  {
   "cell_type": "markdown",
   "metadata": {
    "pycharm": {
     "name": "#%% md\n"
    }
   },
   "source": [
    "在本例中，我们得到的最佳解决方案是将超参数max_features设\n",
    "置为6，n_estimators设置为30。这个组合的RMSE分数为49959，略高\n",
    "于之前使用默认超参数值的分数52634。恭喜你，你成功地将你的模\n",
    "型调整到了最佳模式！"
   ]
  },
  {
   "cell_type": "markdown",
   "metadata": {
    "pycharm": {
     "name": "#%% md\n"
    }
   },
   "source": [
    "分析最佳模型及其错误\n",
    "通过检查最佳模型，你总是可以得到一些好的洞见。例如在进行\n",
    "准确预估时，Random  ForestRegressor可以指出每个属性的相对重要\n",
    "程度："
   ]
  },
  {
   "cell_type": "code",
   "execution_count": 107,
   "metadata": {
    "pycharm": {
     "is_executing": false,
     "name": "#%%\n"
    }
   },
   "outputs": [
    {
     "data": {
      "text/plain": [
       "array([  7.69687766e-02,   7.04319887e-02,   4.38660619e-02,\n",
       "         1.80630448e-02,   1.66508742e-02,   1.79482850e-02,\n",
       "         1.59942989e-02,   3.27548930e-01,   5.57736006e-02,\n",
       "         1.05319561e-01,   9.13965806e-02,   1.16638033e-02,\n",
       "         1.38350194e-01,   1.03976446e-04,   3.83940095e-03,\n",
       "         6.08062375e-03])"
      ]
     },
     "execution_count": 107,
     "metadata": {},
     "output_type": "execute_result"
    }
   ],
   "source": [
    "feature_importances = grid_search.best_estimator_.feature_importances_\n",
    "feature_importances"
   ]
  },
  {
   "cell_type": "code",
   "execution_count": 108,
   "metadata": {
    "pycharm": {
     "is_executing": false,
     "name": "#%%\n"
    }
   },
   "outputs": [
    {
     "data": {
      "text/plain": [
       "[(0.32754893001195934, 'median_income'),\n",
       " (0.13835019350471953, 'INLAND'),\n",
       " (0.10531956070724346, 'pop_per_hhold'),\n",
       " (0.09139658055040592, 'bedrooms_per_room'),\n",
       " (0.076968776639663436, 'longitude'),\n",
       " (0.07043198869339834, 'latitude'),\n",
       " (0.05577360056115168, 'rooms_per_hhold'),\n",
       " (0.043866061924543169, 'housing_median_age'),\n",
       " (0.018063044805051474, 'total_rooms'),\n",
       " (0.01794828495917463, 'population'),\n",
       " (0.016650874220719983, 'total_bedrooms'),\n",
       " (0.015994298942109429, 'households'),\n",
       " (0.01166380333543238, '<1H OCEAN'),\n",
       " (0.0060806237459764172, 'NEAR OCEAN'),\n",
       " (0.0038394009525752962, 'NEAR BAY'),\n",
       " (0.0001039764458754885, 'ISLAND')]"
      ]
     },
     "execution_count": 108,
     "metadata": {},
     "output_type": "execute_result"
    }
   ],
   "source": [
    "extra_attribs = [\"rooms_per_hhold\", \"pop_per_hhold\", \"bedrooms_per_room\"]\n",
    "cat_one_hot_attribs = list(encoder.classes_)\n",
    "attributes = num_attribs + extra_attribs + cat_one_hot_attribs\n",
    "sorted(zip(feature_importances, attributes), reverse=True)\n",
    "\n",
    "\n",
    "\n",
    "\n",
    "\n"
   ]
  },
  {
   "cell_type": "code",
   "execution_count": null,
   "metadata": {
    "collapsed": true
   },
   "outputs": [],
   "source": []
  },
  {
   "cell_type": "code",
   "execution_count": null,
   "metadata": {
    "collapsed": true
   },
   "outputs": [],
   "source": []
  },
  {
   "cell_type": "code",
   "execution_count": null,
   "metadata": {
    "collapsed": true
   },
   "outputs": [],
   "source": []
  },
  {
   "cell_type": "code",
   "execution_count": null,
   "metadata": {
    "collapsed": true
   },
   "outputs": [],
   "source": []
  },
  {
   "cell_type": "code",
   "execution_count": null,
   "metadata": {
    "collapsed": true
   },
   "outputs": [],
   "source": []
  }
 ],
 "metadata": {
  "kernelspec": {
   "display_name": "Python 3",
   "language": "python",
   "name": "python3"
  },
  "language_info": {
   "codemirror_mode": {
    "name": "ipython",
    "version": 3
   },
   "file_extension": ".py",
   "mimetype": "text/x-python",
   "name": "python",
   "nbconvert_exporter": "python",
   "pygments_lexer": "ipython3",
   "version": "3.6.3"
  },
  "pycharm": {
   "stem_cell": {
    "cell_type": "raw",
    "metadata": {
     "collapsed": false
    },
    "source": []
   }
  }
 },
 "nbformat": 4,
 "nbformat_minor": 1
}
